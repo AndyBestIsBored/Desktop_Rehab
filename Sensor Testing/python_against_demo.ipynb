{
 "cells": [
  {
   "cell_type": "code",
   "execution_count": 13,
   "metadata": {},
   "outputs": [],
   "source": [
    "import pandas as pd\n",
    "import numpy as np\n",
    "import matplotlib.pyplot as plt\n",
    "import os\n",
    "import sys\n",
    "sys.path.insert(0, '\\python\\Desktop_Rehab')\n",
    "import ftsensor\n",
    "import time"
   ]
  },
  {
   "cell_type": "code",
   "execution_count": 14,
   "metadata": {},
   "outputs": [],
   "source": [
    "duration = 20\n",
    "sensor = ftsensor.ftsensor(calibration_file_path=\"..\\FT44764\\FT44764.cal\")\n",
    "sensor.start_task()\n",
    "sensor.set_bias()\n",
    "\n",
    "readings = []\n",
    "current_time = time.time()\n",
    "while time.time() < current_time+duration:\n",
    "    readings.append(sensor.read_ft()[0])\n",
    "\n",
    "sensor.stop_task()\n"
   ]
  },
  {
   "cell_type": "code",
   "execution_count": 15,
   "metadata": {},
   "outputs": [
    {
     "data": {
      "text/plain": [
       "1281"
      ]
     },
     "execution_count": 15,
     "metadata": {},
     "output_type": "execute_result"
    }
   ],
   "source": [
    "len(readings)"
   ]
  },
  {
   "cell_type": "code",
   "execution_count": 16,
   "metadata": {},
   "outputs": [
    {
     "data": {
      "text/html": [
       "<div>\n",
       "<style scoped>\n",
       "    .dataframe tbody tr th:only-of-type {\n",
       "        vertical-align: middle;\n",
       "    }\n",
       "\n",
       "    .dataframe tbody tr th {\n",
       "        vertical-align: top;\n",
       "    }\n",
       "\n",
       "    .dataframe thead th {\n",
       "        text-align: right;\n",
       "    }\n",
       "</style>\n",
       "<table border=\"1\" class=\"dataframe\">\n",
       "  <thead>\n",
       "    <tr style=\"text-align: right;\">\n",
       "      <th></th>\n",
       "      <th>Force X (N)</th>\n",
       "      <th>Force Y (N)</th>\n",
       "      <th>Force Z (N)</th>\n",
       "      <th>Torque X (N-m)</th>\n",
       "      <th>Torque Y (N-m)</th>\n",
       "      <th>Torque Z (N-m)</th>\n",
       "    </tr>\n",
       "  </thead>\n",
       "  <tbody>\n",
       "    <tr>\n",
       "      <th>0</th>\n",
       "      <td>-0.008168</td>\n",
       "      <td>-0.019754</td>\n",
       "      <td>0.030952</td>\n",
       "      <td>0.000056</td>\n",
       "      <td>0.000159</td>\n",
       "      <td>0.001073</td>\n",
       "    </tr>\n",
       "    <tr>\n",
       "      <th>1</th>\n",
       "      <td>0.010138</td>\n",
       "      <td>-0.037941</td>\n",
       "      <td>-0.004566</td>\n",
       "      <td>-0.000052</td>\n",
       "      <td>0.001158</td>\n",
       "      <td>-0.000193</td>\n",
       "    </tr>\n",
       "    <tr>\n",
       "      <th>2</th>\n",
       "      <td>0.003470</td>\n",
       "      <td>-0.002783</td>\n",
       "      <td>0.038016</td>\n",
       "      <td>-0.000167</td>\n",
       "      <td>0.001182</td>\n",
       "      <td>0.000680</td>\n",
       "    </tr>\n",
       "    <tr>\n",
       "      <th>3</th>\n",
       "      <td>-0.001473</td>\n",
       "      <td>-0.037460</td>\n",
       "      <td>0.010951</td>\n",
       "      <td>-0.000546</td>\n",
       "      <td>0.000496</td>\n",
       "      <td>-0.000037</td>\n",
       "    </tr>\n",
       "    <tr>\n",
       "      <th>4</th>\n",
       "      <td>0.021586</td>\n",
       "      <td>-0.009614</td>\n",
       "      <td>0.030545</td>\n",
       "      <td>-0.000073</td>\n",
       "      <td>-0.000484</td>\n",
       "      <td>0.001185</td>\n",
       "    </tr>\n",
       "    <tr>\n",
       "      <th>...</th>\n",
       "      <td>...</td>\n",
       "      <td>...</td>\n",
       "      <td>...</td>\n",
       "      <td>...</td>\n",
       "      <td>...</td>\n",
       "      <td>...</td>\n",
       "    </tr>\n",
       "    <tr>\n",
       "      <th>1249</th>\n",
       "      <td>0.246801</td>\n",
       "      <td>-0.054784</td>\n",
       "      <td>0.114833</td>\n",
       "      <td>0.001659</td>\n",
       "      <td>0.003716</td>\n",
       "      <td>0.001219</td>\n",
       "    </tr>\n",
       "    <tr>\n",
       "      <th>1250</th>\n",
       "      <td>0.012203</td>\n",
       "      <td>-0.029601</td>\n",
       "      <td>-0.107837</td>\n",
       "      <td>-0.000801</td>\n",
       "      <td>-0.001214</td>\n",
       "      <td>-0.000355</td>\n",
       "    </tr>\n",
       "    <tr>\n",
       "      <th>1251</th>\n",
       "      <td>0.051332</td>\n",
       "      <td>0.016094</td>\n",
       "      <td>0.075396</td>\n",
       "      <td>-0.000742</td>\n",
       "      <td>0.001739</td>\n",
       "      <td>0.000716</td>\n",
       "    </tr>\n",
       "    <tr>\n",
       "      <th>1252</th>\n",
       "      <td>0.003734</td>\n",
       "      <td>-0.036587</td>\n",
       "      <td>-0.013362</td>\n",
       "      <td>0.000408</td>\n",
       "      <td>-0.002014</td>\n",
       "      <td>0.000313</td>\n",
       "    </tr>\n",
       "    <tr>\n",
       "      <th>1253</th>\n",
       "      <td>0.047928</td>\n",
       "      <td>-0.045520</td>\n",
       "      <td>0.015017</td>\n",
       "      <td>0.000893</td>\n",
       "      <td>0.000135</td>\n",
       "      <td>0.001184</td>\n",
       "    </tr>\n",
       "  </tbody>\n",
       "</table>\n",
       "<p>1254 rows × 6 columns</p>\n",
       "</div>"
      ],
      "text/plain": [
       "      Force X (N)  Force Y (N)  Force Z (N)  Torque X (N-m)  Torque Y (N-m)  \\\n",
       "0       -0.008168    -0.019754     0.030952        0.000056        0.000159   \n",
       "1        0.010138    -0.037941    -0.004566       -0.000052        0.001158   \n",
       "2        0.003470    -0.002783     0.038016       -0.000167        0.001182   \n",
       "3       -0.001473    -0.037460     0.010951       -0.000546        0.000496   \n",
       "4        0.021586    -0.009614     0.030545       -0.000073       -0.000484   \n",
       "...           ...          ...          ...             ...             ...   \n",
       "1249     0.246801    -0.054784     0.114833        0.001659        0.003716   \n",
       "1250     0.012203    -0.029601    -0.107837       -0.000801       -0.001214   \n",
       "1251     0.051332     0.016094     0.075396       -0.000742        0.001739   \n",
       "1252     0.003734    -0.036587    -0.013362        0.000408       -0.002014   \n",
       "1253     0.047928    -0.045520     0.015017        0.000893        0.000135   \n",
       "\n",
       "      Torque Z (N-m)  \n",
       "0           0.001073  \n",
       "1          -0.000193  \n",
       "2           0.000680  \n",
       "3          -0.000037  \n",
       "4           0.001185  \n",
       "...              ...  \n",
       "1249        0.001219  \n",
       "1250       -0.000355  \n",
       "1251        0.000716  \n",
       "1252        0.000313  \n",
       "1253        0.001184  \n",
       "\n",
       "[1254 rows x 6 columns]"
      ]
     },
     "execution_count": 16,
     "metadata": {},
     "output_type": "execute_result"
    }
   ],
   "source": [
    "FOLDER_DIR = \"..\\Joey\\Record_Data\"\n",
    "\n",
    "demo_df = pd.read_csv(FOLDER_DIR+\"\\Demo\\Sensor_1.csv\")\n",
    "demo_df.drop(['Frequency = 1000',\n",
    "       'Averaging Level = 16', 'F/T Serial Number = FT44764',\n",
    "       'Time Started = 27-Jun-23 5:48:45 PM'], axis=1, inplace=True)\n",
    "demo_df\n"
   ]
  },
  {
   "cell_type": "code",
   "execution_count": 17,
   "metadata": {},
   "outputs": [
    {
     "data": {
      "text/plain": [
       "<matplotlib.legend.Legend at 0x223767e7a90>"
      ]
     },
     "execution_count": 17,
     "metadata": {},
     "output_type": "execute_result"
    },
    {
     "data": {
      "image/png": "[encoded data removed]",
      "text/plain": [
       "<Figure size 640x480 with 1 Axes>"
      ]
     },
     "metadata": {},
     "output_type": "display_data"
    }
   ],
   "source": [
    "X1 = demo_df.index\n",
    "Y1 = demo_df[\"Force X (N)\"]\n",
    "\n",
    "X2 = range(len(readings))\n",
    "Y2 = readings\n",
    "\n",
    "plt.plot(X1, Y1, label=\"demo\")\n",
    "plt.plot(X2, Y2, label=\"my code\")\n",
    "\n",
    "plt.grid()\n",
    "plt.legend()\n"
   ]
  }
 ],
 "metadata": {
  "kernelspec": {
   "display_name": "Python 3",
   "language": "python",
   "name": "python3"
  },
  "language_info": {
   "codemirror_mode": {
    "name": "ipython",
    "version": 3
   },
   "file_extension": ".py",
   "mimetype": "text/x-python",
   "name": "python",
   "nbconvert_exporter": "python",
   "pygments_lexer": "ipython3",
   "version": "3.10.7"
  },
  "orig_nbformat": 4
 },
 "nbformat": 4,
 "nbformat_minor": 2
}
