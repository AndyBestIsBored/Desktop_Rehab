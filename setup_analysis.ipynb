{
 "cells": [
  {
   "cell_type": "code",
   "execution_count": 2,
   "metadata": {},
   "outputs": [],
   "source": [
    "import seaborn as sns\n",
    "import numpy as np\n",
    "import pandas as pd\n",
    "from pprint import pprint"
   ]
  },
  {
   "cell_type": "code",
   "execution_count": 3,
   "metadata": {},
   "outputs": [
    {
     "name": "stdout",
     "output_type": "stream",
     "text": [
      "Index(['Unnamed: 0', 'Time', 'T1', 'T2', 't1', 't2', 'q1', 'q2', 'x', 'y',\n",
      "       'x_dot', 'y_dot', 'Fx', 'Fy', 'Fx_Mea', 'Fy_Mea'],\n",
      "      dtype='object')\n"
     ]
    },
    {
     "data": {
      "text/html": [
       "<div>\n",
       "<style scoped>\n",
       "    .dataframe tbody tr th:only-of-type {\n",
       "        vertical-align: middle;\n",
       "    }\n",
       "\n",
       "    .dataframe tbody tr th {\n",
       "        vertical-align: top;\n",
       "    }\n",
       "\n",
       "    .dataframe thead th {\n",
       "        text-align: right;\n",
       "    }\n",
       "</style>\n",
       "<table border=\"1\" class=\"dataframe\">\n",
       "  <thead>\n",
       "    <tr style=\"text-align: right;\">\n",
       "      <th></th>\n",
       "      <th>Unnamed: 0</th>\n",
       "      <th>Time</th>\n",
       "      <th>T1</th>\n",
       "      <th>T2</th>\n",
       "      <th>t1</th>\n",
       "      <th>t2</th>\n",
       "      <th>q1</th>\n",
       "      <th>q2</th>\n",
       "      <th>x</th>\n",
       "      <th>y</th>\n",
       "      <th>x_dot</th>\n",
       "      <th>y_dot</th>\n",
       "      <th>Fx</th>\n",
       "      <th>Fy</th>\n",
       "      <th>Fx_Mea</th>\n",
       "      <th>Fy_Mea</th>\n",
       "    </tr>\n",
       "  </thead>\n",
       "  <tbody>\n",
       "    <tr>\n",
       "      <th>0</th>\n",
       "      <td>0</td>\n",
       "      <td>0.000000</td>\n",
       "      <td>0.0</td>\n",
       "      <td>0.0</td>\n",
       "      <td>-0.997253</td>\n",
       "      <td>-1.013736</td>\n",
       "      <td>0.102</td>\n",
       "      <td>0.132</td>\n",
       "      <td>0.265914</td>\n",
       "      <td>0.241983</td>\n",
       "      <td>0.000000</td>\n",
       "      <td>0.000000</td>\n",
       "      <td>-0.0</td>\n",
       "      <td>0.0</td>\n",
       "      <td>-4.105476</td>\n",
       "      <td>5.002797</td>\n",
       "    </tr>\n",
       "    <tr>\n",
       "      <th>1</th>\n",
       "      <td>1</td>\n",
       "      <td>0.051459</td>\n",
       "      <td>0.0</td>\n",
       "      <td>0.0</td>\n",
       "      <td>-1.063187</td>\n",
       "      <td>-1.013736</td>\n",
       "      <td>0.111</td>\n",
       "      <td>0.132</td>\n",
       "      <td>0.268375</td>\n",
       "      <td>0.241720</td>\n",
       "      <td>0.047824</td>\n",
       "      <td>-0.005113</td>\n",
       "      <td>-0.0</td>\n",
       "      <td>0.0</td>\n",
       "      <td>-1.290399</td>\n",
       "      <td>4.371375</td>\n",
       "    </tr>\n",
       "    <tr>\n",
       "      <th>2</th>\n",
       "      <td>2</td>\n",
       "      <td>0.067143</td>\n",
       "      <td>0.0</td>\n",
       "      <td>0.0</td>\n",
       "      <td>0.074176</td>\n",
       "      <td>0.024725</td>\n",
       "      <td>0.125</td>\n",
       "      <td>0.139</td>\n",
       "      <td>0.271971</td>\n",
       "      <td>0.239602</td>\n",
       "      <td>0.229296</td>\n",
       "      <td>-0.135033</td>\n",
       "      <td>-0.0</td>\n",
       "      <td>0.0</td>\n",
       "      <td>-2.134800</td>\n",
       "      <td>4.794876</td>\n",
       "    </tr>\n",
       "    <tr>\n",
       "      <th>3</th>\n",
       "      <td>3</td>\n",
       "      <td>0.082615</td>\n",
       "      <td>0.0</td>\n",
       "      <td>0.0</td>\n",
       "      <td>-0.074176</td>\n",
       "      <td>0.057692</td>\n",
       "      <td>0.125</td>\n",
       "      <td>0.139</td>\n",
       "      <td>0.271971</td>\n",
       "      <td>0.239602</td>\n",
       "      <td>0.000000</td>\n",
       "      <td>0.000000</td>\n",
       "      <td>-0.0</td>\n",
       "      <td>0.0</td>\n",
       "      <td>-1.371597</td>\n",
       "      <td>4.682217</td>\n",
       "    </tr>\n",
       "    <tr>\n",
       "      <th>4</th>\n",
       "      <td>4</td>\n",
       "      <td>0.096127</td>\n",
       "      <td>0.0</td>\n",
       "      <td>0.0</td>\n",
       "      <td>0.008242</td>\n",
       "      <td>-0.008242</td>\n",
       "      <td>0.125</td>\n",
       "      <td>0.139</td>\n",
       "      <td>0.271971</td>\n",
       "      <td>0.239602</td>\n",
       "      <td>0.000000</td>\n",
       "      <td>0.000000</td>\n",
       "      <td>-0.0</td>\n",
       "      <td>0.0</td>\n",
       "      <td>-0.427401</td>\n",
       "      <td>4.518959</td>\n",
       "    </tr>\n",
       "    <tr>\n",
       "      <th>...</th>\n",
       "      <td>...</td>\n",
       "      <td>...</td>\n",
       "      <td>...</td>\n",
       "      <td>...</td>\n",
       "      <td>...</td>\n",
       "      <td>...</td>\n",
       "      <td>...</td>\n",
       "      <td>...</td>\n",
       "      <td>...</td>\n",
       "      <td>...</td>\n",
       "      <td>...</td>\n",
       "      <td>...</td>\n",
       "      <td>...</td>\n",
       "      <td>...</td>\n",
       "      <td>...</td>\n",
       "      <td>...</td>\n",
       "    </tr>\n",
       "    <tr>\n",
       "      <th>1273</th>\n",
       "      <td>1273</td>\n",
       "      <td>19.917357</td>\n",
       "      <td>0.0</td>\n",
       "      <td>0.0</td>\n",
       "      <td>-0.008242</td>\n",
       "      <td>0.008242</td>\n",
       "      <td>0.227</td>\n",
       "      <td>0.122</td>\n",
       "      <td>0.300106</td>\n",
       "      <td>0.238738</td>\n",
       "      <td>0.000000</td>\n",
       "      <td>0.000000</td>\n",
       "      <td>-0.0</td>\n",
       "      <td>0.0</td>\n",
       "      <td>-3.725434</td>\n",
       "      <td>4.701900</td>\n",
       "    </tr>\n",
       "    <tr>\n",
       "      <th>1274</th>\n",
       "      <td>1274</td>\n",
       "      <td>19.931679</td>\n",
       "      <td>0.0</td>\n",
       "      <td>0.0</td>\n",
       "      <td>0.008242</td>\n",
       "      <td>0.008242</td>\n",
       "      <td>0.227</td>\n",
       "      <td>0.122</td>\n",
       "      <td>0.300106</td>\n",
       "      <td>0.238738</td>\n",
       "      <td>0.000000</td>\n",
       "      <td>0.000000</td>\n",
       "      <td>-0.0</td>\n",
       "      <td>0.0</td>\n",
       "      <td>-4.217052</td>\n",
       "      <td>4.784118</td>\n",
       "    </tr>\n",
       "    <tr>\n",
       "      <th>1275</th>\n",
       "      <td>1275</td>\n",
       "      <td>19.946317</td>\n",
       "      <td>0.0</td>\n",
       "      <td>0.0</td>\n",
       "      <td>0.008242</td>\n",
       "      <td>-0.024725</td>\n",
       "      <td>0.226</td>\n",
       "      <td>0.122</td>\n",
       "      <td>0.299838</td>\n",
       "      <td>0.238799</td>\n",
       "      <td>-0.018307</td>\n",
       "      <td>0.004219</td>\n",
       "      <td>-0.0</td>\n",
       "      <td>0.0</td>\n",
       "      <td>-2.974159</td>\n",
       "      <td>4.573802</td>\n",
       "    </tr>\n",
       "    <tr>\n",
       "      <th>1276</th>\n",
       "      <td>1276</td>\n",
       "      <td>19.962213</td>\n",
       "      <td>0.0</td>\n",
       "      <td>0.0</td>\n",
       "      <td>-0.107143</td>\n",
       "      <td>0.024725</td>\n",
       "      <td>0.224</td>\n",
       "      <td>0.122</td>\n",
       "      <td>0.299302</td>\n",
       "      <td>0.238922</td>\n",
       "      <td>-0.033728</td>\n",
       "      <td>0.007719</td>\n",
       "      <td>-0.0</td>\n",
       "      <td>0.0</td>\n",
       "      <td>-4.896009</td>\n",
       "      <td>4.775644</td>\n",
       "    </tr>\n",
       "    <tr>\n",
       "      <th>1277</th>\n",
       "      <td>1277</td>\n",
       "      <td>19.975265</td>\n",
       "      <td>0.0</td>\n",
       "      <td>0.0</td>\n",
       "      <td>0.024725</td>\n",
       "      <td>0.008242</td>\n",
       "      <td>0.224</td>\n",
       "      <td>0.122</td>\n",
       "      <td>0.299302</td>\n",
       "      <td>0.238922</td>\n",
       "      <td>0.000000</td>\n",
       "      <td>0.000000</td>\n",
       "      <td>-0.0</td>\n",
       "      <td>0.0</td>\n",
       "      <td>-3.601622</td>\n",
       "      <td>4.765047</td>\n",
       "    </tr>\n",
       "  </tbody>\n",
       "</table>\n",
       "<p>1278 rows × 16 columns</p>\n",
       "</div>"
      ],
      "text/plain": [
       "      Unnamed: 0       Time   T1   T2        t1        t2     q1     q2  \\\n",
       "0              0   0.000000  0.0  0.0 -0.997253 -1.013736  0.102  0.132   \n",
       "1              1   0.051459  0.0  0.0 -1.063187 -1.013736  0.111  0.132   \n",
       "2              2   0.067143  0.0  0.0  0.074176  0.024725  0.125  0.139   \n",
       "3              3   0.082615  0.0  0.0 -0.074176  0.057692  0.125  0.139   \n",
       "4              4   0.096127  0.0  0.0  0.008242 -0.008242  0.125  0.139   \n",
       "...          ...        ...  ...  ...       ...       ...    ...    ...   \n",
       "1273        1273  19.917357  0.0  0.0 -0.008242  0.008242  0.227  0.122   \n",
       "1274        1274  19.931679  0.0  0.0  0.008242  0.008242  0.227  0.122   \n",
       "1275        1275  19.946317  0.0  0.0  0.008242 -0.024725  0.226  0.122   \n",
       "1276        1276  19.962213  0.0  0.0 -0.107143  0.024725  0.224  0.122   \n",
       "1277        1277  19.975265  0.0  0.0  0.024725  0.008242  0.224  0.122   \n",
       "\n",
       "             x         y     x_dot     y_dot   Fx   Fy    Fx_Mea    Fy_Mea  \n",
       "0     0.265914  0.241983  0.000000  0.000000 -0.0  0.0 -4.105476  5.002797  \n",
       "1     0.268375  0.241720  0.047824 -0.005113 -0.0  0.0 -1.290399  4.371375  \n",
       "2     0.271971  0.239602  0.229296 -0.135033 -0.0  0.0 -2.134800  4.794876  \n",
       "3     0.271971  0.239602  0.000000  0.000000 -0.0  0.0 -1.371597  4.682217  \n",
       "4     0.271971  0.239602  0.000000  0.000000 -0.0  0.0 -0.427401  4.518959  \n",
       "...        ...       ...       ...       ...  ...  ...       ...       ...  \n",
       "1273  0.300106  0.238738  0.000000  0.000000 -0.0  0.0 -3.725434  4.701900  \n",
       "1274  0.300106  0.238738  0.000000  0.000000 -0.0  0.0 -4.217052  4.784118  \n",
       "1275  0.299838  0.238799 -0.018307  0.004219 -0.0  0.0 -2.974159  4.573802  \n",
       "1276  0.299302  0.238922 -0.033728  0.007719 -0.0  0.0 -4.896009  4.775644  \n",
       "1277  0.299302  0.238922  0.000000  0.000000 -0.0  0.0 -3.601622  4.765047  \n",
       "\n",
       "[1278 rows x 16 columns]"
      ]
     },
     "execution_count": 3,
     "metadata": {},
     "output_type": "execute_result"
    }
   ],
   "source": [
    "data = pd.read_csv(\"Joey\\Record_Data\\Y024\\T0000.csv\")\n",
    "pprint(data.columns)\n",
    "data"
   ]
  },
  {
   "cell_type": "code",
   "execution_count": 4,
   "metadata": {},
   "outputs": [
    {
     "data": {
      "text/plain": [
       "0       0.000000\n",
       "1       0.047824\n",
       "2       0.229296\n",
       "3       0.000000\n",
       "4       0.000000\n",
       "          ...   \n",
       "1273    0.000000\n",
       "1274    0.000000\n",
       "1275   -0.018307\n",
       "1276   -0.033728\n",
       "1277    0.000000\n",
       "Name: x_dot, Length: 1278, dtype: float64"
      ]
     },
     "execution_count": 4,
     "metadata": {},
     "output_type": "execute_result"
    }
   ],
   "source": [
    "data = data[[\"Time\", \"x\", \"q1\", \"q2\", \"x_dot\"]]\n",
    "data[\"x_dot\"]"
   ]
  },
  {
   "cell_type": "code",
   "execution_count": 5,
   "metadata": {},
   "outputs": [],
   "source": [
    "sign_change_index = []\n",
    "current_sign = np.sign(data.iloc[0][\"x_dot\"])\n",
    "for index, row in data.iterrows():\n",
    "    if np.sign(row[\"x_dot\"]) != current_sign: \n",
    "        sign_change_index.append(index)\n",
    "        current_sign = np.sign(row[\"x_dot\"])\n",
    "        # pprint(row)\n"
   ]
  },
  {
   "cell_type": "code",
   "execution_count": 6,
   "metadata": {},
   "outputs": [
    {
     "data": {
      "text/plain": [
       "count    1278.000000\n",
       "mean        0.000908\n",
       "std         0.103749\n",
       "min        -1.282203\n",
       "25%        -0.017739\n",
       "50%         0.000000\n",
       "75%         0.020293\n",
       "max         1.225168\n",
       "Name: x_dot, dtype: float64"
      ]
     },
     "execution_count": 6,
     "metadata": {},
     "output_type": "execute_result"
    }
   ],
   "source": [
    "data[\"x_dot\"].describe()"
   ]
  },
  {
   "cell_type": "code",
   "execution_count": 7,
   "metadata": {},
   "outputs": [
    {
     "data": {
      "text/plain": [
       "<AxesSubplot:ylabel='x_dot'>"
      ]
     },
     "execution_count": 7,
     "metadata": {},
     "output_type": "execute_result"
    },
    {
     "data": {
      "image/png": "[encoded data removed]",
      "text/plain": [
       "<Figure size 432x288 with 1 Axes>"
      ]
     },
     "metadata": {
      "needs_background": "light"
     },
     "output_type": "display_data"
    }
   ],
   "source": [
    "sns.lineplot(x=data.index, y=data[\"x_dot\"])"
   ]
  },
  {
   "cell_type": "code",
   "execution_count": 11,
   "metadata": {},
   "outputs": [
    {
     "name": "stderr",
     "output_type": "stream",
     "text": [
      "C:\\Users\\andyb\\AppData\\Local\\Temp\\ipykernel_25168\\802743023.py:1: SettingWithCopyWarning: \n",
      "A value is trying to be set on a copy of a slice from a DataFrame.\n",
      "Try using .loc[row_indexer,col_indexer] = value instead\n",
      "\n",
      "See the caveats in the documentation: https://pandas.pydata.org/pandas-docs/stable/user_guide/indexing.html#returning-a-view-versus-a-copy\n",
      "  data[\"x_dot_abs\"] = abs(data.x_dot)\n"
     ]
    },
    {
     "data": {
      "text/plain": [
       "<AxesSubplot:ylabel='x_dot_abs'>"
      ]
     },
     "execution_count": 11,
     "metadata": {},
     "output_type": "execute_result"
    },
    {
     "data": {
      "image/png": "[encoded data removed]",
      "text/plain": [
       "<Figure size 432x288 with 1 Axes>"
      ]
     },
     "metadata": {
      "needs_background": "light"
     },
     "output_type": "display_data"
    }
   ],
   "source": [
    "data[\"x_dot_abs\"] = abs(data.x_dot)\n",
    "sns.lineplot(x=data.index, y=data[\"x_dot_abs\"])"
   ]
  },
  {
   "cell_type": "code",
   "execution_count": null,
   "metadata": {},
   "outputs": [
    {
     "data": {
      "text/plain": [
       "<AxesSubplot:ylabel='x'>"
      ]
     },
     "execution_count": 8,
     "metadata": {},
     "output_type": "execute_result"
    },
    {
     "data": {
      "image/png": "[encoded data removed]",
      "text/plain": [
       "<Figure size 432x288 with 1 Axes>"
      ]
     },
     "metadata": {
      "needs_background": "light"
     },
     "output_type": "display_data"
    }
   ],
   "source": [
    "sns.lineplot(x=data.index, y=data[\"x\"])"
   ]
  },
  {
   "cell_type": "code",
   "execution_count": 32,
   "metadata": {},
   "outputs": [
    {
     "name": "stdout",
     "output_type": "stream",
     "text": [
      "average velocity:  -0.024395485168307963 \t m/s\n",
      "average velocity:  -2.439548516830796 \t cm/s\n"
     ]
    },
    {
     "data": {
      "image/png": "[encoded data removed]",
      "text/plain": [
       "<Figure size 432x288 with 1 Axes>"
      ]
     },
     "metadata": {
      "needs_background": "light"
     },
     "output_type": "display_data"
    }
   ],
   "source": [
    "x= [i for i in range(150,500)]\n",
    "y = data.iloc[x][\"x\"]\n",
    "sns.lineplot(x=x, y=y)\n",
    "distance = y.max()-y.min()\n",
    "avg_vel = distance/(data.iloc[y.idxmax()][\"Time\"]-data.iloc[y.idxmin()][\"Time\"])\n",
    "print(\"average velocity: \", avg_vel, \"\\t m/s\")\n",
    "print(\"average velocity: \", avg_vel*100, \"\\t cm/s\")"
   ]
  },
  {
   "cell_type": "code",
   "execution_count": 31,
   "metadata": {},
   "outputs": [
    {
     "data": {
      "text/plain": [
       "3.2350869178771973"
      ]
     },
     "execution_count": 31,
     "metadata": {},
     "output_type": "execute_result"
    }
   ],
   "source": []
  }
 ],
 "metadata": {
  "kernelspec": {
   "display_name": "Python 3",
   "language": "python",
   "name": "python3"
  },
  "language_info": {
   "codemirror_mode": {
    "name": "ipython",
    "version": 3
   },
   "file_extension": ".py",
   "mimetype": "text/x-python",
   "name": "python",
   "nbconvert_exporter": "python",
   "pygments_lexer": "ipython3",
   "version": "3.10.11"
  },
  "orig_nbformat": 4
 },
 "nbformat": 4,
 "nbformat_minor": 2
}
