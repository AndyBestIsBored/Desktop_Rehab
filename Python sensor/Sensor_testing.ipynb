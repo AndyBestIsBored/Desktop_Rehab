{
 "cells": [
  {
   "cell_type": "code",
   "execution_count": 1,
   "metadata": {},
   "outputs": [],
   "source": [
    "import nidaqmx \n",
    "import atiiaftt as ati\n",
    "import time\n",
    "import numpy as np\n",
    "from nidaqmx.stream_readers import AnalogMultiChannelReader\n",
    "import matplotlib.pyplot as plt\n",
    "import pandas as pd\n",
    "from nidaqmx.constants import AcquisitionType\n",
    "\n",
    "def avg(lst):\n",
    "    return sum(lst) / len(lst)"
   ]
  },
  {
   "cell_type": "code",
   "execution_count": 2,
   "metadata": {},
   "outputs": [],
   "source": [
    "CALFILEPATH = \"..\\FT44764\\FT44764.cal\"\n",
    "INDEX = 1\n",
    "\n",
    "with nidaqmx.Task() as task:\n",
    "    task.ai_channels.add_ai_voltage_chan(\"Dev1/ai0\")\n",
    "    task.ai_channels.add_ai_voltage_chan(\"Dev1/ai1\")\n",
    "    task.ai_channels.add_ai_voltage_chan(\"Dev1/ai2\")\n",
    "    task.ai_channels.add_ai_voltage_chan(\"Dev1/ai3\")\n",
    "    task.ai_channels.add_ai_voltage_chan(\"Dev1/ai4\")\n",
    "    task.ai_channels.add_ai_voltage_chan(\"Dev1/ai5\")\n",
    "    \n",
    "    readings = task.read()\n",
    "\n",
    "sampleTT = [0,0,0,0,0,0]\n",
    "\n",
    "sensor = ati.FTSensor()\n",
    "cal = sensor.createCalibration(CALFILEPATH, INDEX)\n",
    "sensor.setForceUnits(\"N\".encode(\"utf-8\"))\n",
    "sensor.setTorqueUnits(\"N-m\".encode(\"utf-8\"))\n",
    "sensor.setToolTransform(sampleTT, \"mm\".encode(\"utf-8\"), \"deg\".encode(\"utf-8\"))\n",
    "\n",
    "DURATION = 5"
   ]
  },
  {
   "cell_type": "code",
   "execution_count": 3,
   "metadata": {},
   "outputs": [
    {
     "name": "stdout",
     "output_type": "stream",
     "text": [
      "Shape size:  (205, 6)\n",
      "Standard Deviation of Force X (N):  0.0038098266070769695\n",
      "Average of Force X (N):  1.1623797974935393\n"
     ]
    }
   ],
   "source": [
    "current_time = time.time()\n",
    "readings_inside_loop = []\n",
    "while time.time() < current_time+DURATION:\n",
    "    with nidaqmx.Task() as task:\n",
    "        task.ai_channels.add_ai_voltage_chan(\"Dev1/ai0\")\n",
    "        task.ai_channels.add_ai_voltage_chan(\"Dev1/ai1\")\n",
    "        task.ai_channels.add_ai_voltage_chan(\"Dev1/ai2\")\n",
    "        task.ai_channels.add_ai_voltage_chan(\"Dev1/ai3\")\n",
    "        task.ai_channels.add_ai_voltage_chan(\"Dev1/ai4\")\n",
    "        task.ai_channels.add_ai_voltage_chan(\"Dev1/ai5\")\n",
    "\n",
    "        readings_inside_loop.append(sensor.convertToFt(task.read()))\n",
    "readings_inside_loop = np.array(readings_inside_loop)\n",
    "\n",
    "print(\"Shape size: \", readings_inside_loop.shape)\n",
    "std_readings_inside_loop = readings_inside_loop.transpose()[0].std()\n",
    "print(\"Standard Deviation of Force X (N): \", std_readings_inside_loop)\n",
    "avg_readings_inside_loop = readings_inside_loop.transpose()[0].mean()\n",
    "print(\"Average of Force X (N): \", avg_readings_inside_loop)"
   ]
  },
  {
   "cell_type": "code",
   "execution_count": 4,
   "metadata": {},
   "outputs": [
    {
     "name": "stdout",
     "output_type": "stream",
     "text": [
      "Shape size:  (203, 6)\n",
      "Standard Deviation of Force X (N):  0.003897941231470661\n",
      "Average of Force X (N):  1.1708415922860207\n"
     ]
    }
   ],
   "source": [
    "current_time = time.time()\n",
    "readings_outside_loop = []\n",
    "with nidaqmx.Task() as task:\n",
    "    task.ai_channels.add_ai_voltage_chan(\"Dev1/ai0\")\n",
    "    task.ai_channels.add_ai_voltage_chan(\"Dev1/ai1\")\n",
    "    task.ai_channels.add_ai_voltage_chan(\"Dev1/ai2\")\n",
    "    task.ai_channels.add_ai_voltage_chan(\"Dev1/ai3\")\n",
    "    task.ai_channels.add_ai_voltage_chan(\"Dev1/ai4\")\n",
    "    task.ai_channels.add_ai_voltage_chan(\"Dev1/ai5\")\n",
    "    while time.time() < current_time+DURATION:\n",
    "        readings_outside_loop.append(sensor.convertToFt(task.read()))\n",
    "readings_outside_loop = np.array(readings_outside_loop)\n",
    "\n",
    "\n",
    "print(\"Shape size: \", readings_outside_loop.shape)\n",
    "std_readings_outside_loop = readings_outside_loop.transpose()[0].std()\n",
    "print(\"Standard Deviation of Force X (N): \", std_readings_outside_loop)\n",
    "avg_readings_outside_loop = readings_outside_loop.transpose()[0].mean()\n",
    "print(\"Average of Force X (N): \", avg_readings_outside_loop)"
   ]
  },
  {
   "cell_type": "code",
   "execution_count": 5,
   "metadata": {},
   "outputs": [
    {
     "name": "stdout",
     "output_type": "stream",
     "text": [
      "Shape size:  (204, 6)\n",
      "Standard Deviation of Force X (N):  0.004134965023404772\n",
      "Average of Force X (N):  1.180565123464547\n"
     ]
    }
   ],
   "source": [
    "readings_multi_read_one = []\n",
    "with nidaqmx.Task() as read_task:\n",
    "    read_task = nidaqmx.Task()\n",
    "    read_task.ai_channels.add_ai_voltage_chan(\"Dev1/ai0\")\n",
    "    read_task.ai_channels.add_ai_voltage_chan(\"Dev1/ai1\")\n",
    "    read_task.ai_channels.add_ai_voltage_chan(\"Dev1/ai2\")\n",
    "    read_task.ai_channels.add_ai_voltage_chan(\"Dev1/ai3\")\n",
    "    read_task.ai_channels.add_ai_voltage_chan(\"Dev1/ai4\")\n",
    "    read_task.ai_channels.add_ai_voltage_chan(\"Dev1/ai5\")\n",
    "    reader = AnalogMultiChannelReader(read_task.in_stream,)\n",
    "    values_read = np.zeros(6, dtype=np.float64)\n",
    "\n",
    "\n",
    "\n",
    "    current_time = time.time()\n",
    "    while time.time() < current_time+DURATION:\n",
    "        reader.read_one_sample(values_read)\n",
    "        \n",
    "        readings_multi_read_one.append(sensor.convertToFt(values_read.tolist()))\n",
    "\n",
    "readings_multi_read_one = np.array(readings_multi_read_one)\n",
    "\n",
    "\n",
    "print(\"Shape size: \", readings_multi_read_one.shape)\n",
    "std_readings_multi_read_one = readings_multi_read_one.transpose()[0].std()\n",
    "print(\"Standard Deviation of Force X (N): \", std_readings_multi_read_one)\n",
    "avg_readings_multi_read_one = readings_multi_read_one.transpose()[0].mean()\n",
    "print(\"Average of Force X (N): \", avg_readings_multi_read_one)"
   ]
  },
  {
   "cell_type": "code",
   "execution_count": 12,
   "metadata": {},
   "outputs": [
    {
     "name": "stdout",
     "output_type": "stream",
     "text": [
      "time passed:  5.029697895050049 (s)\n",
      "Standard Deviation of Force X (N):  0.0033216746225163928\n",
      "Average of Force X (N):  1.279560579136014\n"
     ]
    }
   ],
   "source": [
    "readings_multi_read_many = []\n",
    "with nidaqmx.Task() as read_task:\n",
    "    read_task.ai_channels.add_ai_voltage_chan(\"Dev1/ai0\")\n",
    "    read_task.ai_channels.add_ai_voltage_chan(\"Dev1/ai1\")\n",
    "    read_task.ai_channels.add_ai_voltage_chan(\"Dev1/ai2\")\n",
    "    read_task.ai_channels.add_ai_voltage_chan(\"Dev1/ai3\")\n",
    "    read_task.ai_channels.add_ai_voltage_chan(\"Dev1/ai4\")\n",
    "    read_task.ai_channels.add_ai_voltage_chan(\"Dev1/ai5\")\n",
    "\n",
    "    sample_rate = 6400\n",
    "    samples_to_acq = DURATION * sample_rate\n",
    "    values_read = np.zeros((6, samples_to_acq), dtype=np.float64)\n",
    "    cont_mode = AcquisitionType.CONTINUOUS\n",
    "    read_task.timing.cfg_samp_clk_timing(sample_rate, sample_mode = cont_mode, samps_per_chan = samples_to_acq)               \n",
    "    reader = AnalogMultiChannelReader(read_task.in_stream)\n",
    "\n",
    "    current_time = time.time()\n",
    "    reader.read_many_sample(data=values_read, number_of_samples_per_channel=samples_to_acq, timeout=11)\n",
    "    test_time = time.time()\n",
    "    print(\"time passed: \", test_time-current_time,\"(s)\")\n",
    "\n",
    "readings_multi_read_many = np.array([np.array(channel) for channel in values_read]).transpose()\n",
    "readings_multi_read_many = np.array([sensor.convertToFt(reading.tolist()) for reading in readings_multi_read_many])\n",
    "\n",
    "std_readings_multi_read_many = readings_multi_read_many.transpose()[0].std()\n",
    "print(\"Standard Deviation of Force X (N): \", std_readings_multi_read_many)\n",
    "avg_readings_multi_read_many = readings_multi_read_many.transpose()[0].mean()\n",
    "print(\"Average of Force X (N): \", avg_readings_multi_read_many)"
   ]
  },
  {
   "cell_type": "code",
   "execution_count": 20,
   "metadata": {},
   "outputs": [
    {
     "name": "stdout",
     "output_type": "stream",
     "text": [
      "time passed:  5.028992176055908 (s)\n",
      "Standard Deviation of Force X (N):  0.0033393476302306254\n",
      "Average of Force X (N):  1.8139355585835875\n"
     ]
    }
   ],
   "source": [
    "readings_multi_read_many_fliter = []\n",
    "\n",
    "with nidaqmx.Task() as read_task:\n",
    "    read_task.ai_channels.add_ai_voltage_chan(\"Dev1/ai0\")\n",
    "    read_task.ai_channels.add_ai_voltage_chan(\"Dev1/ai1\")\n",
    "    read_task.ai_channels.add_ai_voltage_chan(\"Dev1/ai2\")\n",
    "    read_task.ai_channels.add_ai_voltage_chan(\"Dev1/ai3\")\n",
    "    read_task.ai_channels.add_ai_voltage_chan(\"Dev1/ai4\")\n",
    "    read_task.ai_channels.add_ai_voltage_chan(\"Dev1/ai5\")\n",
    "    \n",
    "    sample_rate = 6400\n",
    "    samples_to_acq = DURATION * sample_rate\n",
    "    values_read = np.zeros((6, samples_to_acq), dtype=np.float64)\n",
    "    cont_mode = AcquisitionType.CONTINUOUS\n",
    "    read_task.timing.cfg_samp_clk_timing(sample_rate, sample_mode = cont_mode, samps_per_chan = samples_to_acq)               \n",
    "    reader = AnalogMultiChannelReader(read_task.in_stream)\n",
    "\n",
    "    current_time = time.time()\n",
    "    reader.read_many_sample(data=values_read, number_of_samples_per_channel=samples_to_acq, timeout=11)\n",
    "    test_time = time.time()\n",
    "    print(\"time passed: \", test_time-current_time,\"(s)\")\n",
    "\n",
    "# readings_multi_read_many_fliter = np.array([np.array(channel) for channel in values_read]).transpose()\n",
    "# readings_multi_read_many_fliter = np.array([sensor.convertToFt(reading.tolist()) for reading in readings_multi_read_many])\n",
    "\n",
    "# std_readings_multi_read_many_fliter = readings_multi_read_many_fliter.transpose()[0].std()\n",
    "# print(\"Standard Deviation of Force X (N): \", std_readings_multi_read_many_fliter)\n",
    "# avg_readings_multi_read_many_fliter = readings_multi_read_many_fliter.transpose()[0].mean()\n",
    "# print(\"Average of Force X (N): \", avg_readings_multi_read_many_fliter)"
   ]
  },
  {
   "cell_type": "code",
   "execution_count": 15,
   "metadata": {},
   "outputs": [
    {
     "name": "stdout",
     "output_type": "stream",
     "text": [
      "Shape size:  (813, 6)\n"
     ]
    },
    {
     "ename": "TypeError",
     "evalue": "could not convert string to float: 'Force X (N)'",
     "output_type": "error",
     "traceback": [
      "\u001b[1;31m---------------------------------------------------------------------------\u001b[0m",
      "\u001b[1;31mValueError\u001b[0m                                Traceback (most recent call last)",
      "File \u001b[1;32m~\\AppData\\Roaming\\Python\\Python310\\site-packages\\pandas\\core\\nanops.py:93\u001b[0m, in \u001b[0;36mdisallow.__call__.<locals>._f\u001b[1;34m(*args, **kwargs)\u001b[0m\n\u001b[0;32m     92\u001b[0m     \u001b[39mwith\u001b[39;00m np\u001b[39m.\u001b[39merrstate(invalid\u001b[39m=\u001b[39m\u001b[39m\"\u001b[39m\u001b[39mignore\u001b[39m\u001b[39m\"\u001b[39m):\n\u001b[1;32m---> 93\u001b[0m         \u001b[39mreturn\u001b[39;00m f(\u001b[39m*\u001b[39margs, \u001b[39m*\u001b[39m\u001b[39m*\u001b[39mkwargs)\n\u001b[0;32m     94\u001b[0m \u001b[39mexcept\u001b[39;00m \u001b[39mValueError\u001b[39;00m \u001b[39mas\u001b[39;00m e:\n\u001b[0;32m     95\u001b[0m     \u001b[39m# we want to transform an object array\u001b[39;00m\n\u001b[0;32m     96\u001b[0m     \u001b[39m# ValueError message to the more typical TypeError\u001b[39;00m\n\u001b[0;32m     97\u001b[0m     \u001b[39m# e.g. this is normally a disallowed function on\u001b[39;00m\n\u001b[0;32m     98\u001b[0m     \u001b[39m# object arrays that contain strings\u001b[39;00m\n",
      "File \u001b[1;32m~\\AppData\\Roaming\\Python\\Python310\\site-packages\\pandas\\core\\nanops.py:155\u001b[0m, in \u001b[0;36mbottleneck_switch.__call__.<locals>.f\u001b[1;34m(values, axis, skipna, **kwds)\u001b[0m\n\u001b[0;32m    154\u001b[0m \u001b[39melse\u001b[39;00m:\n\u001b[1;32m--> 155\u001b[0m     result \u001b[39m=\u001b[39m alt(values, axis\u001b[39m=\u001b[39maxis, skipna\u001b[39m=\u001b[39mskipna, \u001b[39m*\u001b[39m\u001b[39m*\u001b[39mkwds)\n\u001b[0;32m    157\u001b[0m \u001b[39mreturn\u001b[39;00m result\n",
      "File \u001b[1;32m~\\AppData\\Roaming\\Python\\Python310\\site-packages\\pandas\\core\\nanops.py:963\u001b[0m, in \u001b[0;36mnanvar\u001b[1;34m(values, axis, skipna, ddof, mask)\u001b[0m\n\u001b[0;32m    957\u001b[0m \u001b[39m# xref GH10242\u001b[39;00m\n\u001b[0;32m    958\u001b[0m \u001b[39m# Compute variance via two-pass algorithm, which is stable against\u001b[39;00m\n\u001b[0;32m    959\u001b[0m \u001b[39m# cancellation errors and relatively accurate for small numbers of\u001b[39;00m\n\u001b[0;32m    960\u001b[0m \u001b[39m# observations.\u001b[39;00m\n\u001b[0;32m    961\u001b[0m \u001b[39m#\u001b[39;00m\n\u001b[0;32m    962\u001b[0m \u001b[39m# See https://en.wikipedia.org/wiki/Algorithms_for_calculating_variance\u001b[39;00m\n\u001b[1;32m--> 963\u001b[0m avg \u001b[39m=\u001b[39m _ensure_numeric(values\u001b[39m.\u001b[39;49msum(axis\u001b[39m=\u001b[39;49maxis, dtype\u001b[39m=\u001b[39;49mnp\u001b[39m.\u001b[39;49mfloat64)) \u001b[39m/\u001b[39m count\n\u001b[0;32m    964\u001b[0m \u001b[39mif\u001b[39;00m axis \u001b[39mis\u001b[39;00m \u001b[39mnot\u001b[39;00m \u001b[39mNone\u001b[39;00m:\n",
      "File \u001b[1;32mc:\\Users\\HP\\AppData\\Local\\Programs\\Python\\Python310\\lib\\site-packages\\numpy\\core\\_methods.py:48\u001b[0m, in \u001b[0;36m_sum\u001b[1;34m(a, axis, dtype, out, keepdims, initial, where)\u001b[0m\n\u001b[0;32m     46\u001b[0m \u001b[39mdef\u001b[39;00m \u001b[39m_sum\u001b[39m(a, axis\u001b[39m=\u001b[39m\u001b[39mNone\u001b[39;00m, dtype\u001b[39m=\u001b[39m\u001b[39mNone\u001b[39;00m, out\u001b[39m=\u001b[39m\u001b[39mNone\u001b[39;00m, keepdims\u001b[39m=\u001b[39m\u001b[39mFalse\u001b[39;00m,\n\u001b[0;32m     47\u001b[0m          initial\u001b[39m=\u001b[39m_NoValue, where\u001b[39m=\u001b[39m\u001b[39mTrue\u001b[39;00m):\n\u001b[1;32m---> 48\u001b[0m     \u001b[39mreturn\u001b[39;00m umr_sum(a, axis, dtype, out, keepdims, initial, where)\n",
      "\u001b[1;31mValueError\u001b[0m: could not convert string to float: 'Force X (N)'",
      "\nThe above exception was the direct cause of the following exception:\n",
      "\u001b[1;31mTypeError\u001b[0m                                 Traceback (most recent call last)",
      "Cell \u001b[1;32mIn[15], line 8\u001b[0m\n\u001b[0;32m      5\u001b[0m demo_df\u001b[39m.\u001b[39mdrop(demo_df\u001b[39m.\u001b[39mcolumns[\u001b[39m6\u001b[39m:], axis\u001b[39m=\u001b[39m\u001b[39m1\u001b[39m, inplace\u001b[39m=\u001b[39m\u001b[39mTrue\u001b[39;00m)\n\u001b[0;32m      7\u001b[0m \u001b[39mprint\u001b[39m(\u001b[39m\"\u001b[39m\u001b[39mShape size: \u001b[39m\u001b[39m\"\u001b[39m, demo_df\u001b[39m.\u001b[39mshape)\n\u001b[1;32m----> 8\u001b[0m \u001b[39mprint\u001b[39m(\u001b[39m\"\u001b[39m\u001b[39mStandard Deviation of Force X (N): \u001b[39m\u001b[39m\"\u001b[39m, demo_df[\u001b[39m\"\u001b[39;49m\u001b[39mForce X (N)\u001b[39;49m\u001b[39m\"\u001b[39;49m]\u001b[39m.\u001b[39;49mstd())\n\u001b[0;32m      9\u001b[0m \u001b[39mprint\u001b[39m(\u001b[39m\"\u001b[39m\u001b[39mAverage of Force X (N): \u001b[39m\u001b[39m\"\u001b[39m, demo_df[\u001b[39m\"\u001b[39m\u001b[39mForce X (N)\u001b[39m\u001b[39m\"\u001b[39m]\u001b[39m.\u001b[39mmean())\n",
      "File \u001b[1;32m~\\AppData\\Roaming\\Python\\Python310\\site-packages\\pandas\\core\\generic.py:11717\u001b[0m, in \u001b[0;36mNDFrame._add_numeric_operations.<locals>.std\u001b[1;34m(self, axis, skipna, level, ddof, numeric_only, **kwargs)\u001b[0m\n\u001b[0;32m  11697\u001b[0m \u001b[39m@doc\u001b[39m(\n\u001b[0;32m  11698\u001b[0m     _num_ddof_doc,\n\u001b[0;32m  11699\u001b[0m     desc\u001b[39m=\u001b[39m\u001b[39m\"\u001b[39m\u001b[39mReturn sample standard deviation over requested axis.\u001b[39m\u001b[39m\"\u001b[39m\n\u001b[1;32m   (...)\u001b[0m\n\u001b[0;32m  11715\u001b[0m     \u001b[39m*\u001b[39m\u001b[39m*\u001b[39mkwargs,\n\u001b[0;32m  11716\u001b[0m ):\n\u001b[1;32m> 11717\u001b[0m     \u001b[39mreturn\u001b[39;00m NDFrame\u001b[39m.\u001b[39mstd(\u001b[39mself\u001b[39m, axis, skipna, level, ddof, numeric_only, \u001b[39m*\u001b[39m\u001b[39m*\u001b[39mkwargs)\n",
      "File \u001b[1;32m~\\AppData\\Roaming\\Python\\Python310\\site-packages\\pandas\\core\\generic.py:11305\u001b[0m, in \u001b[0;36mNDFrame.std\u001b[1;34m(self, axis, skipna, level, ddof, numeric_only, **kwargs)\u001b[0m\n\u001b[0;32m  11296\u001b[0m \u001b[39mdef\u001b[39;00m \u001b[39mstd\u001b[39m(\n\u001b[0;32m  11297\u001b[0m     \u001b[39mself\u001b[39m,\n\u001b[0;32m  11298\u001b[0m     axis: Axis \u001b[39m|\u001b[39m \u001b[39mNone\u001b[39;00m \u001b[39m=\u001b[39m \u001b[39mNone\u001b[39;00m,\n\u001b[1;32m   (...)\u001b[0m\n\u001b[0;32m  11303\u001b[0m     \u001b[39m*\u001b[39m\u001b[39m*\u001b[39mkwargs,\n\u001b[0;32m  11304\u001b[0m ) \u001b[39m-\u001b[39m\u001b[39m>\u001b[39m Series \u001b[39m|\u001b[39m \u001b[39mfloat\u001b[39m:\n\u001b[1;32m> 11305\u001b[0m     \u001b[39mreturn\u001b[39;00m \u001b[39mself\u001b[39m\u001b[39m.\u001b[39m_stat_function_ddof(\n\u001b[0;32m  11306\u001b[0m         \u001b[39m\"\u001b[39m\u001b[39mstd\u001b[39m\u001b[39m\"\u001b[39m, nanops\u001b[39m.\u001b[39mnanstd, axis, skipna, level, ddof, numeric_only, \u001b[39m*\u001b[39m\u001b[39m*\u001b[39mkwargs\n\u001b[0;32m  11307\u001b[0m     )\n",
      "File \u001b[1;32m~\\AppData\\Roaming\\Python\\Python310\\site-packages\\pandas\\core\\generic.py:11266\u001b[0m, in \u001b[0;36mNDFrame._stat_function_ddof\u001b[1;34m(self, name, func, axis, skipna, level, ddof, numeric_only, **kwargs)\u001b[0m\n\u001b[0;32m  11256\u001b[0m     warnings\u001b[39m.\u001b[39mwarn(\n\u001b[0;32m  11257\u001b[0m         \u001b[39m\"\u001b[39m\u001b[39mUsing the level keyword in DataFrame and Series aggregations is \u001b[39m\u001b[39m\"\u001b[39m\n\u001b[0;32m  11258\u001b[0m         \u001b[39m\"\u001b[39m\u001b[39mdeprecated and will be removed in a future version. Use groupby \u001b[39m\u001b[39m\"\u001b[39m\n\u001b[1;32m   (...)\u001b[0m\n\u001b[0;32m  11261\u001b[0m         stacklevel\u001b[39m=\u001b[39mfind_stack_level(),\n\u001b[0;32m  11262\u001b[0m     )\n\u001b[0;32m  11263\u001b[0m     \u001b[39mreturn\u001b[39;00m \u001b[39mself\u001b[39m\u001b[39m.\u001b[39m_agg_by_level(\n\u001b[0;32m  11264\u001b[0m         name, axis\u001b[39m=\u001b[39maxis, level\u001b[39m=\u001b[39mlevel, skipna\u001b[39m=\u001b[39mskipna, ddof\u001b[39m=\u001b[39mddof\n\u001b[0;32m  11265\u001b[0m     )\n\u001b[1;32m> 11266\u001b[0m \u001b[39mreturn\u001b[39;00m \u001b[39mself\u001b[39;49m\u001b[39m.\u001b[39;49m_reduce(\n\u001b[0;32m  11267\u001b[0m     func, name, axis\u001b[39m=\u001b[39;49maxis, numeric_only\u001b[39m=\u001b[39;49mnumeric_only, skipna\u001b[39m=\u001b[39;49mskipna, ddof\u001b[39m=\u001b[39;49mddof\n\u001b[0;32m  11268\u001b[0m )\n",
      "File \u001b[1;32m~\\AppData\\Roaming\\Python\\Python310\\site-packages\\pandas\\core\\series.py:4816\u001b[0m, in \u001b[0;36mSeries._reduce\u001b[1;34m(self, op, name, axis, skipna, numeric_only, filter_type, **kwds)\u001b[0m\n\u001b[0;32m   4812\u001b[0m     \u001b[39mraise\u001b[39;00m \u001b[39mNotImplementedError\u001b[39;00m(\n\u001b[0;32m   4813\u001b[0m         \u001b[39mf\u001b[39m\u001b[39m\"\u001b[39m\u001b[39mSeries.\u001b[39m\u001b[39m{\u001b[39;00mname\u001b[39m}\u001b[39;00m\u001b[39m does not implement \u001b[39m\u001b[39m{\u001b[39;00mkwd_name\u001b[39m}\u001b[39;00m\u001b[39m.\u001b[39m\u001b[39m\"\u001b[39m\n\u001b[0;32m   4814\u001b[0m     )\n\u001b[0;32m   4815\u001b[0m \u001b[39mwith\u001b[39;00m np\u001b[39m.\u001b[39merrstate(\u001b[39mall\u001b[39m\u001b[39m=\u001b[39m\u001b[39m\"\u001b[39m\u001b[39mignore\u001b[39m\u001b[39m\"\u001b[39m):\n\u001b[1;32m-> 4816\u001b[0m     \u001b[39mreturn\u001b[39;00m op(delegate, skipna\u001b[39m=\u001b[39mskipna, \u001b[39m*\u001b[39m\u001b[39m*\u001b[39mkwds)\n",
      "File \u001b[1;32m~\\AppData\\Roaming\\Python\\Python310\\site-packages\\pandas\\core\\nanops.py:155\u001b[0m, in \u001b[0;36mbottleneck_switch.__call__.<locals>.f\u001b[1;34m(values, axis, skipna, **kwds)\u001b[0m\n\u001b[0;32m    153\u001b[0m         result \u001b[39m=\u001b[39m alt(values, axis\u001b[39m=\u001b[39maxis, skipna\u001b[39m=\u001b[39mskipna, \u001b[39m*\u001b[39m\u001b[39m*\u001b[39mkwds)\n\u001b[0;32m    154\u001b[0m \u001b[39melse\u001b[39;00m:\n\u001b[1;32m--> 155\u001b[0m     result \u001b[39m=\u001b[39m alt(values, axis\u001b[39m=\u001b[39maxis, skipna\u001b[39m=\u001b[39mskipna, \u001b[39m*\u001b[39m\u001b[39m*\u001b[39mkwds)\n\u001b[0;32m    157\u001b[0m \u001b[39mreturn\u001b[39;00m result\n",
      "File \u001b[1;32m~\\AppData\\Roaming\\Python\\Python310\\site-packages\\pandas\\core\\nanops.py:906\u001b[0m, in \u001b[0;36mnanstd\u001b[1;34m(values, axis, skipna, ddof, mask)\u001b[0m\n\u001b[0;32m    903\u001b[0m orig_dtype \u001b[39m=\u001b[39m values\u001b[39m.\u001b[39mdtype\n\u001b[0;32m    904\u001b[0m values, mask, _, _, _ \u001b[39m=\u001b[39m _get_values(values, skipna, mask\u001b[39m=\u001b[39mmask)\n\u001b[1;32m--> 906\u001b[0m result \u001b[39m=\u001b[39m np\u001b[39m.\u001b[39msqrt(nanvar(values, axis\u001b[39m=\u001b[39;49maxis, skipna\u001b[39m=\u001b[39;49mskipna, ddof\u001b[39m=\u001b[39;49mddof, mask\u001b[39m=\u001b[39;49mmask))\n\u001b[0;32m    907\u001b[0m \u001b[39mreturn\u001b[39;00m _wrap_results(result, orig_dtype)\n",
      "File \u001b[1;32m~\\AppData\\Roaming\\Python\\Python310\\site-packages\\pandas\\core\\nanops.py:100\u001b[0m, in \u001b[0;36mdisallow.__call__.<locals>._f\u001b[1;34m(*args, **kwargs)\u001b[0m\n\u001b[0;32m     94\u001b[0m \u001b[39mexcept\u001b[39;00m \u001b[39mValueError\u001b[39;00m \u001b[39mas\u001b[39;00m e:\n\u001b[0;32m     95\u001b[0m     \u001b[39m# we want to transform an object array\u001b[39;00m\n\u001b[0;32m     96\u001b[0m     \u001b[39m# ValueError message to the more typical TypeError\u001b[39;00m\n\u001b[0;32m     97\u001b[0m     \u001b[39m# e.g. this is normally a disallowed function on\u001b[39;00m\n\u001b[0;32m     98\u001b[0m     \u001b[39m# object arrays that contain strings\u001b[39;00m\n\u001b[0;32m     99\u001b[0m     \u001b[39mif\u001b[39;00m is_object_dtype(args[\u001b[39m0\u001b[39m]):\n\u001b[1;32m--> 100\u001b[0m         \u001b[39mraise\u001b[39;00m \u001b[39mTypeError\u001b[39;00m(e) \u001b[39mfrom\u001b[39;00m \u001b[39me\u001b[39;00m\n\u001b[0;32m    101\u001b[0m     \u001b[39mraise\u001b[39;00m\n",
      "\u001b[1;31mTypeError\u001b[0m: could not convert string to float: 'Force X (N)'"
     ]
    }
   ],
   "source": [
    "FOLDER_DIR = \"..\\Joey\\Record_Data\"\n",
    "\n",
    "demo_df = pd.read_csv(FOLDER_DIR+\"\\Demo\\Sensor_2.csv\")\n",
    "\n",
    "demo_df.drop(demo_df.columns[6:], axis=1, inplace=True)\n",
    "\n",
    "print(\"Shape size: \", demo_df.shape)\n",
    "print(\"Standard Deviation of Force X (N): \", demo_df[\"Force X (N)\"].std())\n",
    "print(\"Average of Force X (N): \", demo_df[\"Force X (N)\"].mean())"
   ]
  }
 ],
 "metadata": {
  "kernelspec": {
   "display_name": "Python 3",
   "language": "python",
   "name": "python3"
  },
  "language_info": {
   "codemirror_mode": {
    "name": "ipython",
    "version": 3
   },
   "file_extension": ".py",
   "mimetype": "text/x-python",
   "name": "python",
   "nbconvert_exporter": "python",
   "pygments_lexer": "ipython3",
   "version": "3.10.11"
  },
  "orig_nbformat": 4
 },
 "nbformat": 4,
 "nbformat_minor": 2
}
