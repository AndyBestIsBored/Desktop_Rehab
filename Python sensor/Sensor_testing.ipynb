{
 "cells": [
  {
   "cell_type": "code",
   "execution_count": null,
   "metadata": {},
   "outputs": [],
   "source": [
    "import nidaqmx \n",
    "import atiiaftt as ati\n",
    "import time"
   ]
  },
  {
   "cell_type": "code",
   "execution_count": null,
   "metadata": {},
   "outputs": [],
   "source": [
    "CALFILEPATH = \"..\\FT44764\\FT44764.cal\"\n",
    "INDEX = 1\n",
    "\n",
    "with nidaqmx.Task() as task:\n",
    "    task.ai_channels.add_ai_voltage_chan(\"Dev1/ai0\")\n",
    "    task.ai_channels.add_ai_voltage_chan(\"Dev1/ai1\")\n",
    "    task.ai_channels.add_ai_voltage_chan(\"Dev1/ai2\")\n",
    "    task.ai_channels.add_ai_voltage_chan(\"Dev1/ai3\")\n",
    "    task.ai_channels.add_ai_voltage_chan(\"Dev1/ai4\")\n",
    "    task.ai_channels.add_ai_voltage_chan(\"Dev1/ai5\")\n",
    "\n",
    "    task.ai_channels.add_ai_voltage_chan(\"Dev1/ai8\")\n",
    "    task.ai_channels.add_ai_voltage_chan(\"Dev1/ai9\")\n",
    "    task.ai_channels.add_ai_voltage_chan(\"Dev1/ai10\")\n",
    "    task.ai_channels.add_ai_voltage_chan(\"Dev1/ai11\")\n",
    "    task.ai_channels.add_ai_voltage_chan(\"Dev1/ai12\")\n",
    "    task.ai_channels.add_ai_voltage_chan(\"Dev1/ai13\")\n",
    "    \n",
    "    readings = task.read()\n",
    "\n",
    "sampleTT = [0,0,0,0,0,0]\n",
    "\n",
    "sensor = ati.FTSensor()\n",
    "cal = sensor.createCalibration(CALFILEPATH, INDEX)\n",
    "sensor.setForceUnits(\"N\".encode(\"utf-8\"))\n",
    "sensor.setTorqueUnits(\"N-m\".encode(\"utf-8\"))\n",
    "sensor.setToolTransform(sampleTT, \"mm\".encode(\"utf-8\"), \"deg\".encode(\"utf-8\"))\n",
    "\n",
    "# bias = readings[:6]\n",
    "SG_output = readings[:6]\n",
    "SG_ref = readings[6:]\n",
    "\n",
    "# sensor.bias(bias)\n",
    "output = sensor.convertToFt(SG_output)\n",
    "\n",
    "print(\"SG output: \", SG_output)\n",
    "print(\"SG red: \", SG_ref)\n",
    "print(\"Force: \", output)"
   ]
  },
  {
   "cell_type": "code",
   "execution_count": null,
   "metadata": {},
   "outputs": [],
   "source": [
    "current_time = time.time()\n",
    "duration = 10\n",
    "readings = []\n",
    "while time.time() < current_time+duration:\n",
    "    with nidaqmx.Task() as task:\n",
    "        task.ai_channels.add_ai_voltage_chan(\"Dev1/ai0\")\n",
    "        task.ai_channels.add_ai_voltage_chan(\"Dev1/ai1\")\n",
    "        task.ai_channels.add_ai_voltage_chan(\"Dev1/ai2\")\n",
    "        task.ai_channels.add_ai_voltage_chan(\"Dev1/ai3\")\n",
    "        task.ai_channels.add_ai_voltage_chan(\"Dev1/ai4\")\n",
    "        task.ai_channels.add_ai_voltage_chan(\"Dev1/ai5\")\n",
    "\n",
    "        readings.append(task.read())\n",
    "\n",
    "output = sensor.convertToFt(readings[0])\n",
    "readings"
   ]
  }
 ],
 "metadata": {
  "language_info": {
   "name": "python"
  },
  "orig_nbformat": 4
 },
 "nbformat": 4,
 "nbformat_minor": 2
}
