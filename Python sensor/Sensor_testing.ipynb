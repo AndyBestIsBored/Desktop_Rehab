{
 "cells": [
  {
   "cell_type": "code",
   "execution_count": 2,
   "metadata": {},
   "outputs": [],
   "source": [
    "import nidaqmx \n",
    "import atiiaftt as ati\n",
    "import time\n",
    "import numpy as np\n",
    "from nidaqmx.stream_readers import AnalogMultiChannelReader\n",
    "import matplotlib.pyplot as plt\n",
    "import pandas as pd\n",
    "from nidaqmx.constants import AcquisitionType"
   ]
  },
  {
   "cell_type": "code",
   "execution_count": 113,
   "metadata": {},
   "outputs": [],
   "source": [
    "CALFILEPATH = \"..\\FT44764\\FT44764.cal\"\n",
    "INDEX = 1\n",
    "\n",
    "with nidaqmx.Task() as task:\n",
    "    task.ai_channels.add_ai_voltage_chan(\"Dev1/ai0\")\n",
    "    task.ai_channels.add_ai_voltage_chan(\"Dev1/ai1\")\n",
    "    task.ai_channels.add_ai_voltage_chan(\"Dev1/ai2\")\n",
    "    task.ai_channels.add_ai_voltage_chan(\"Dev1/ai3\")\n",
    "    task.ai_channels.add_ai_voltage_chan(\"Dev1/ai4\")\n",
    "    task.ai_channels.add_ai_voltage_chan(\"Dev1/ai5\")\n",
    "    \n",
    "    readings = task.read()\n",
    "\n",
    "sampleTT = [0,0,0,0,0,0]\n",
    "\n",
    "sensor = ati.FTSensor()\n",
    "cal = sensor.createCalibration(CALFILEPATH, INDEX)\n",
    "sensor.setForceUnits(\"N\".encode(\"utf-8\"))\n",
    "sensor.setTorqueUnits(\"N-m\".encode(\"utf-8\"))\n",
    "sensor.setToolTransform(sampleTT, \"mm\".encode(\"utf-8\"), \"deg\".encode(\"utf-8\"))\n",
    "\n",
    "DURATION = 5"
   ]
  },
  {
   "cell_type": "code",
   "execution_count": 114,
   "metadata": {},
   "outputs": [
    {
     "name": "stdout",
     "output_type": "stream",
     "text": [
      "Shape size:  (182, 6)\n",
      "Standard Deviation of Force X (N):  0.003857721838954545\n",
      "Average of Force X (N):  1.1917889144394425\n"
     ]
    }
   ],
   "source": [
    "current_time = time.time()\n",
    "readings_inside_loop = []\n",
    "while time.time() < current_time+DURATION:\n",
    "    with nidaqmx.Task() as task:\n",
    "        task.ai_channels.add_ai_voltage_chan(\"Dev1/ai0\")\n",
    "        task.ai_channels.add_ai_voltage_chan(\"Dev1/ai1\")\n",
    "        task.ai_channels.add_ai_voltage_chan(\"Dev1/ai2\")\n",
    "        task.ai_channels.add_ai_voltage_chan(\"Dev1/ai3\")\n",
    "        task.ai_channels.add_ai_voltage_chan(\"Dev1/ai4\")\n",
    "        task.ai_channels.add_ai_voltage_chan(\"Dev1/ai5\")\n",
    "\n",
    "        readings_inside_loop.append(sensor.convertToFt(task.read()))\n",
    "readings_inside_loop = np.array(readings_inside_loop)\n",
    "\n",
    "print(\"Shape size: \", readings_inside_loop.shape)\n",
    "std_readings_inside_loop = readings_inside_loop.transpose()[0].std()\n",
    "print(\"Standard Deviation of Force X (N): \", std_readings_inside_loop)\n",
    "avg_readings_inside_loop = readings_inside_loop.transpose()[0].mean()\n",
    "print(\"Average of Force X (N): \", avg_readings_inside_loop)"
   ]
  },
  {
   "cell_type": "code",
   "execution_count": 115,
   "metadata": {},
   "outputs": [
    {
     "name": "stdout",
     "output_type": "stream",
     "text": [
      "Shape size:  (216, 6)\n",
      "Standard Deviation of Force X (N):  0.003573190425981459\n",
      "Average of Force X (N):  1.191310512246909\n"
     ]
    }
   ],
   "source": [
    "current_time = time.time()\n",
    "readings_outside_loop = []\n",
    "with nidaqmx.Task() as task:\n",
    "    task.ai_channels.add_ai_voltage_chan(\"Dev1/ai0\")\n",
    "    task.ai_channels.add_ai_voltage_chan(\"Dev1/ai1\")\n",
    "    task.ai_channels.add_ai_voltage_chan(\"Dev1/ai2\")\n",
    "    task.ai_channels.add_ai_voltage_chan(\"Dev1/ai3\")\n",
    "    task.ai_channels.add_ai_voltage_chan(\"Dev1/ai4\")\n",
    "    task.ai_channels.add_ai_voltage_chan(\"Dev1/ai5\")\n",
    "    while time.time() < current_time+DURATION:\n",
    "        readings_outside_loop.append(sensor.convertToFt(task.read()))\n",
    "readings_outside_loop = np.array(readings_outside_loop)\n",
    "\n",
    "\n",
    "print(\"Shape size: \", readings_outside_loop.shape)\n",
    "std_readings_outside_loop = readings_outside_loop.transpose()[0].std()\n",
    "print(\"Standard Deviation of Force X (N): \", std_readings_outside_loop)\n",
    "avg_readings_outside_loop = readings_outside_loop.transpose()[0].mean()\n",
    "print(\"Average of Force X (N): \", avg_readings_outside_loop)"
   ]
  },
  {
   "cell_type": "code",
   "execution_count": 116,
   "metadata": {},
   "outputs": [
    {
     "name": "stdout",
     "output_type": "stream",
     "text": [
      "Shape size:  (215, 6)\n",
      "Standard Deviation of Force X (N):  0.0039006248038501914\n",
      "Average of Force X (N):  1.1904202987981396\n"
     ]
    }
   ],
   "source": [
    "readings_multi_read_one = []\n",
    "with nidaqmx.Task() as read_task:\n",
    "    read_task = nidaqmx.Task()\n",
    "    read_task.ai_channels.add_ai_voltage_chan(\"Dev1/ai0\")\n",
    "    read_task.ai_channels.add_ai_voltage_chan(\"Dev1/ai1\")\n",
    "    read_task.ai_channels.add_ai_voltage_chan(\"Dev1/ai2\")\n",
    "    read_task.ai_channels.add_ai_voltage_chan(\"Dev1/ai3\")\n",
    "    read_task.ai_channels.add_ai_voltage_chan(\"Dev1/ai4\")\n",
    "    read_task.ai_channels.add_ai_voltage_chan(\"Dev1/ai5\")\n",
    "    reader = AnalogMultiChannelReader(read_task.in_stream,)\n",
    "    values_read = np.zeros(6, dtype=np.float64)\n",
    "\n",
    "\n",
    "\n",
    "    current_time = time.time()\n",
    "    while time.time() < current_time+DURATION:\n",
    "        reader.read_one_sample(values_read)\n",
    "        \n",
    "        readings_multi_read_one.append(sensor.convertToFt(values_read.tolist()))\n",
    "\n",
    "readings_multi_read_one = np.array(readings_multi_read_one)\n",
    "\n",
    "\n",
    "print(\"Shape size: \", readings_multi_read_one.shape)\n",
    "std_readings_multi_read_one = readings_multi_read_one.transpose()[0].std()\n",
    "print(\"Standard Deviation of Force X (N): \", std_readings_multi_read_one)\n",
    "avg_readings_multi_read_one = readings_multi_read_one.transpose()[0].mean()\n",
    "print(\"Average of Force X (N): \", avg_readings_multi_read_one)"
   ]
  },
  {
   "cell_type": "code",
   "execution_count": 117,
   "metadata": {},
   "outputs": [
    {
     "name": "stdout",
     "output_type": "stream",
     "text": [
      "time passed:  5.037401914596558 (s)\n",
      "Shape size:  (32000, 6)\n",
      "Standard Deviation of Force X (N):  0.003944422318397909\n",
      "Average of Force X (N):  1.188775642607361\n"
     ]
    },
    {
     "name": "stderr",
     "output_type": "stream",
     "text": [
      "c:\\users\\andyb\\appdata\\local\\programs\\python\\python310\\lib\\site-packages\\nidaqmx\\task.py:97: ResourceWarning: Task of name \"_unnamedTask<73D>\" was not explicitly closed before it was destructed. Resources on the task device may still be reserved.\n",
      "  warnings.warn(\n"
     ]
    }
   ],
   "source": [
    "readings_multi_read_many = []\n",
    "with nidaqmx.Task() as read_task:\n",
    "    read_task.ai_channels.add_ai_voltage_chan(\"Dev1/ai0\")\n",
    "    read_task.ai_channels.add_ai_voltage_chan(\"Dev1/ai1\")\n",
    "    read_task.ai_channels.add_ai_voltage_chan(\"Dev1/ai2\")\n",
    "    read_task.ai_channels.add_ai_voltage_chan(\"Dev1/ai3\")\n",
    "    read_task.ai_channels.add_ai_voltage_chan(\"Dev1/ai4\")\n",
    "    read_task.ai_channels.add_ai_voltage_chan(\"Dev1/ai5\")\n",
    "\n",
    "    sample_rate = 6400\n",
    "    samples_to_acq = DURATION * sample_rate\n",
    "    values_read = np.zeros((6, samples_to_acq), dtype=np.float64)\n",
    "    cont_mode = AcquisitionType.CONTINUOUS\n",
    "    read_task.timing.cfg_samp_clk_timing(sample_rate, sample_mode = cont_mode, samps_per_chan = samples_to_acq)               \n",
    "    reader = AnalogMultiChannelReader(read_task.in_stream)\n",
    "\n",
    "    current_time = time.time()\n",
    "    reader.read_many_sample(data=values_read, number_of_samples_per_channel=samples_to_acq, timeout=11)\n",
    "    test_time = time.time()\n",
    "    print(\"time passed: \", test_time-current_time,\"(s)\")\n",
    "\n",
    "readings_multi_read_many = np.array([np.array(channel) for channel in values_read]).transpose()\n",
    "readings_multi_read_many = np.array([sensor.convertToFt(reading.tolist()) for reading in readings_multi_read_many])\n",
    "lti_read_many = readings_multi_read_many.transpose()[0].mean()\n",
    "print(\"Average of Force X (N): \", avg_readings_multi_read_many)"
   ]
  },
  {
   "cell_type": "code",
   "execution_count": 3,
   "metadata": {},
   "outputs": [
    {
     "ename": "DaqError",
     "evalue": "Device cannot be accessed.  Possible causes:\nDevice is no longer present in the system.\nDevice is not powered.\nDevice is powered, but was temporarily without power.\nDevice and/or chassis driver support may have been removed.\nDevice is damaged.\nEnsure the device is properly connected and turned on. Ensure the device and/or chassis is supported in the current version of the driver. Check the device's status in NI MAX. Turn the computer off and on again. If you suspect that the device is damaged, contact National Instruments at ni.com/support.\nDevice Specified: Dev1\n\nTask Name: _unnamedTask<0>\n\nStatus Code: -201003",
     "output_type": "error",
     "traceback": [
      "\u001b[1;31m---------------------------------------------------------------------------\u001b[0m",
      "\u001b[1;31mDaqError\u001b[0m                                  Traceback (most recent call last)",
      "\u001b[1;32mc:\\Users\\andyb\\Documents\\Desktop_Rehab\\Python sensor\\Sensor_testing.ipynb Cell 7\u001b[0m in \u001b[0;36m<cell line: 3>\u001b[1;34m()\u001b[0m\n\u001b[0;32m      <a href='vscode-notebook-cell:/c%3A/Users/andyb/Documents/Desktop_Rehab/Python%20sensor/Sensor_testing.ipynb#W6sZmlsZQ%3D%3D?line=0'>1</a>\u001b[0m readings_multi_read_many \u001b[39m=\u001b[39m []\n\u001b[0;32m      <a href='vscode-notebook-cell:/c%3A/Users/andyb/Documents/Desktop_Rehab/Python%20sensor/Sensor_testing.ipynb#W6sZmlsZQ%3D%3D?line=2'>3</a>\u001b[0m \u001b[39mwith\u001b[39;00m nidaqmx\u001b[39m.\u001b[39mTask() \u001b[39mas\u001b[39;00m read_task:\n\u001b[1;32m----> <a href='vscode-notebook-cell:/c%3A/Users/andyb/Documents/Desktop_Rehab/Python%20sensor/Sensor_testing.ipynb#W6sZmlsZQ%3D%3D?line=3'>4</a>\u001b[0m     read_task\u001b[39m.\u001b[39;49mai_channels\u001b[39m.\u001b[39;49madd_ai_voltage_chan(\u001b[39m\"\u001b[39;49m\u001b[39mDev1/ai0\u001b[39;49m\u001b[39m\"\u001b[39;49m)\n\u001b[0;32m      <a href='vscode-notebook-cell:/c%3A/Users/andyb/Documents/Desktop_Rehab/Python%20sensor/Sensor_testing.ipynb#W6sZmlsZQ%3D%3D?line=4'>5</a>\u001b[0m     read_task\u001b[39m.\u001b[39mai_channels\u001b[39m.\u001b[39madd_ai_voltage_chan(\u001b[39m\"\u001b[39m\u001b[39mDev1/ai1\u001b[39m\u001b[39m\"\u001b[39m)\n\u001b[0;32m      <a href='vscode-notebook-cell:/c%3A/Users/andyb/Documents/Desktop_Rehab/Python%20sensor/Sensor_testing.ipynb#W6sZmlsZQ%3D%3D?line=5'>6</a>\u001b[0m     read_task\u001b[39m.\u001b[39mai_channels\u001b[39m.\u001b[39madd_ai_voltage_chan(\u001b[39m\"\u001b[39m\u001b[39mDev1/ai2\u001b[39m\u001b[39m\"\u001b[39m)\n",
      "File \u001b[1;32mc:\\users\\andyb\\appdata\\local\\programs\\python\\python310\\lib\\site-packages\\nidaqmx\\_task_modules\\ai_channel_collection.py:2603\u001b[0m, in \u001b[0;36mAIChannelCollection.add_ai_voltage_chan\u001b[1;34m(self, physical_channel, name_to_assign_to_channel, terminal_config, min_val, max_val, units, custom_scale_name)\u001b[0m\n\u001b[0;32m   2594\u001b[0m             cfunc\u001b[39m.\u001b[39margtypes \u001b[39m=\u001b[39m [\n\u001b[0;32m   2595\u001b[0m                 lib_importer\u001b[39m.\u001b[39mtask_handle, ctypes_byte_str,\n\u001b[0;32m   2596\u001b[0m                 ctypes_byte_str, ctypes\u001b[39m.\u001b[39mc_int, ctypes\u001b[39m.\u001b[39mc_double,\n\u001b[0;32m   2597\u001b[0m                 ctypes\u001b[39m.\u001b[39mc_double, ctypes\u001b[39m.\u001b[39mc_int, ctypes_byte_str]\n\u001b[0;32m   2599\u001b[0m error_code \u001b[39m=\u001b[39m cfunc(\n\u001b[0;32m   2600\u001b[0m     \u001b[39mself\u001b[39m\u001b[39m.\u001b[39m_handle, physical_channel, name_to_assign_to_channel,\n\u001b[0;32m   2601\u001b[0m     terminal_config\u001b[39m.\u001b[39mvalue, min_val, max_val, units\u001b[39m.\u001b[39mvalue,\n\u001b[0;32m   2602\u001b[0m     custom_scale_name)\n\u001b[1;32m-> 2603\u001b[0m check_for_error(error_code)\n\u001b[0;32m   2605\u001b[0m \u001b[39mreturn\u001b[39;00m \u001b[39mself\u001b[39m\u001b[39m.\u001b[39m_create_chan(physical_channel, name_to_assign_to_channel)\n",
      "File \u001b[1;32mc:\\users\\andyb\\appdata\\local\\programs\\python\\python310\\lib\\site-packages\\nidaqmx\\errors.py:183\u001b[0m, in \u001b[0;36mcheck_for_error\u001b[1;34m(error_code, samps_per_chan_written, samps_per_chan_read)\u001b[0m\n\u001b[0;32m    181\u001b[0m         \u001b[39mraise\u001b[39;00m DaqWriteError(error_buffer\u001b[39m.\u001b[39mvalue\u001b[39m.\u001b[39mdecode(\u001b[39m\"\u001b[39m\u001b[39mutf-8\u001b[39m\u001b[39m\"\u001b[39m), error_code, samps_per_chan_written)\n\u001b[0;32m    182\u001b[0m     \u001b[39melse\u001b[39;00m:\n\u001b[1;32m--> 183\u001b[0m         \u001b[39mraise\u001b[39;00m DaqError(error_buffer\u001b[39m.\u001b[39mvalue\u001b[39m.\u001b[39mdecode(\u001b[39m\"\u001b[39m\u001b[39mutf-8\u001b[39m\u001b[39m\"\u001b[39m), error_code)\n\u001b[0;32m    185\u001b[0m \u001b[39melif\u001b[39;00m error_code \u001b[39m>\u001b[39m \u001b[39m0\u001b[39m:\n\u001b[0;32m    186\u001b[0m     error_buffer \u001b[39m=\u001b[39m ctypes\u001b[39m.\u001b[39mcreate_string_buffer(\u001b[39m2048\u001b[39m)\n",
      "\u001b[1;31mDaqError\u001b[0m: Device cannot be accessed.  Possible causes:\nDevice is no longer present in the system.\nDevice is not powered.\nDevice is powered, but was temporarily without power.\nDevice and/or chassis driver support may have been removed.\nDevice is damaged.\nEnsure the device is properly connected and turned on. Ensure the device and/or chassis is supported in the current version of the driver. Check the device's status in NI MAX. Turn the computer off and on again. If you suspect that the device is damaged, contact National Instruments at ni.com/support.\nDevice Specified: Dev1\n\nTask Name: _unnamedTask<0>\n\nStatus Code: -201003"
     ]
    }
   ],
   "source": [
    "readings_multi_read_many = []\n",
    "\n",
    "with nidaqmx.Task() as read_task:\n",
    "    read_task.ai_channels.add_ai_voltage_chan(\"Dev1/ai0\")\n",
    "    read_task.ai_channels.add_ai_voltage_chan(\"Dev1/ai1\")\n",
    "    read_task.ai_channels.add_ai_voltage_chan(\"Dev1/ai2\")\n",
    "    read_task.ai_channels.add_ai_voltage_chan(\"Dev1/ai3\")\n",
    "    read_task.ai_channels.add_ai_voltage_chan(\"Dev1/ai4\")\n",
    "    read_task.ai_channels.add_ai_voltage_chan(\"Dev1/ai5\")\n",
    "    read_task.ai_channels.ai_lowpass_cutoff_freq = 235\n",
    "    read_task.ai_channels.ai_lowpass_enable = True\n",
    "    sample_rate = 6400\n",
    "    samples_to_acq = DURATION * sample_rate\n",
    "    values_read = np.zeros((6, samples_to_acq), dtype=np.float64)\n",
    "    cont_mode = AcquisitionType.CONTINUOUS\n",
    "    read_task.timing.cfg_samp_clk_timing(sample_rate, sample_mode = cont_mode, samps_per_chan = samples_to_acq)               \n",
    "    reader = AnalogMultiChannelReader(read_task.in_stream)\n",
    "\n",
    "    current_time = time.time()\n",
    "    reader.read_many_sample(data=values_read, number_of_samples_per_channel=samples_to_acq, timeout=11)\n",
    "    test_time = time.time()\n",
    "    print(\"time passed: \", test_time-current_time,\"(s)\")\n",
    "    read_task.ai_channels.ai_lowpass_enable = False\n",
    "\n",
    "readings_multi_read_many = np.array([np.array(channel) for channel in values_read]).transpose()\n",
    "readings_multi_read_many = np.array([sensor.convertToFt(reading.tolist()) for reading in readings_multi_read_many])\n",
    "lti_read_many = readings_multi_read_many.transpose()[0].mean()\n",
    "print(\"Average of Force X (N): \", avg_readings_multi_read_many)"
   ]
  },
  {
   "cell_type": "code",
   "execution_count": 118,
   "metadata": {},
   "outputs": [
    {
     "name": "stdout",
     "output_type": "stream",
     "text": [
      "Shape size:  (500, 6)\n",
      "Standard Deviation of Force X (N):  0.0018800538336572557\n",
      "Average of Force X (N):  1.1916512076854706\n"
     ]
    }
   ],
   "source": [
    "FOLDER_DIR = \"..\\Joey\\Record_Data\"\n",
    "\n",
    "demo_df = pd.read_csv(FOLDER_DIR+\"\\Demo\\Sensor_2.csv\")\n",
    "\n",
    "demo_df.drop(demo_df.columns[6:], axis=1, inplace=True)\n",
    "\n",
    "print(\"Shape size: \", demo_df.shape)\n",
    "print(\"Standard Deviation of Force X (N): \", demo_df[\"Force X (N)\"].std())\n",
    "print(\"Average of Force X (N): \", demo_df[\"Force X (N)\"].mean())"
   ]
  }
 ],
 "metadata": {
  "kernelspec": {
   "display_name": "Python 3",
   "language": "python",
   "name": "python3"
  },
  "language_info": {
   "codemirror_mode": {
    "name": "ipython",
    "version": 3
   },
   "file_extension": ".py",
   "mimetype": "text/x-python",
   "name": "python",
   "nbconvert_exporter": "python",
   "pygments_lexer": "ipython3",
   "version": "3.10.11"
  },
  "orig_nbformat": 4
 },
 "nbformat": 4,
 "nbformat_minor": 2
}
