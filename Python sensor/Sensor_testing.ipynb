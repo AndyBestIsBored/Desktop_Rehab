{
 "cells": [
  {
   "cell_type": "code",
   "execution_count": 1,
   "metadata": {},
   "outputs": [],
   "source": [
    "import nidaqmx \n",
    "import atiiaftt as ati\n",
    "import time"
   ]
  },
  {
   "cell_type": "code",
   "execution_count": null,
   "metadata": {},
   "outputs": [],
   "source": [
    "CALFILEPATH = \"..\\FT44764\\FT44764.cal\"\n",
    "INDEX = 1\n",
    "\n",
    "with nidaqmx.Task() as task:\n",
    "    task.ai_channels.add_ai_voltage_chan(\"Dev1/ai0\")\n",
    "    task.ai_channels.add_ai_voltage_chan(\"Dev1/ai1\")\n",
    "    task.ai_channels.add_ai_voltage_chan(\"Dev1/ai2\")\n",
    "    task.ai_channels.add_ai_voltage_chan(\"Dev1/ai3\")\n",
    "    task.ai_channels.add_ai_voltage_chan(\"Dev1/ai4\")\n",
    "    task.ai_channels.add_ai_voltage_chan(\"Dev1/ai5\")\n",
    "\n",
    "    task.ai_channels.add_ai_voltage_chan(\"Dev1/\")\n",
    "    \n",
    "    readings = task.read()\n",
    "\n",
    "sampleTT = [0,0,0,0,0,0]\n",
    "\n",
    "sensor = ati.FTSensor()\n",
    "cal = sensor.createCalibration(CALFILEPATH, INDEX)\n",
    "sensor.setForceUnits(\"N\".encode(\"utf-8\"))\n",
    "sensor.setTorqueUnits(\"N-m\".encode(\"utf-8\"))\n",
    "sensor.setToolTransform(sampleTT, \"mm\".encode(\"utf-8\"), \"deg\".encode(\"utf-8\"))\n",
    "\n",
    "# bias = readings[:6]\n",
    "SG_output = readings[:6]\n",
    "SG_ref = readings[6:]\n",
    "\n",
    "# sensor.bias(bias)\n",
    "output = sensor.convertToFt(SG_output)\n",
    "\n",
    "print(\"SG output: \", SG_output)\n",
    "print(\"SG red: \", SG_ref)\n",
    "print(\"Force: \", output)"
   ]
  },
  {
   "cell_type": "code",
   "execution_count": null,
   "metadata": {},
   "outputs": [],
   "source": [
    "current_time = time.time()\n",
    "DURATION = 5\n",
    "readings_outside_loop = []\n",
    "with nidaqmx.Task() as task:\n",
    "    task.ai_channels.add_ai_voltage_chan(\"Dev1/ai0\")\n",
    "    task.ai_channels.add_ai_voltage_chan(\"Dev1/ai1\")\n",
    "    task.ai_channels.add_ai_voltage_chan(\"Dev1/ai2\")\n",
    "    task.ai_channels.add_ai_voltage_chan(\"Dev1/ai3\")\n",
    "    task.ai_channels.add_ai_voltage_chan(\"Dev1/ai4\")\n",
    "    task.ai_channels.add_ai_voltage_chan(\"Dev1/ai5\")\n",
    "    while time.time() < current_time+DURATION:\n",
    "        readings_outside_loop.append(task.read())\n",
    "\n",
    "output_outside_loop = sensor.convertToFt(readings_outside_loop[0])\n",
    "print(len(readings_outside_loop))"
   ]
  },
  {
   "cell_type": "code",
   "execution_count": null,
   "metadata": {},
   "outputs": [],
   "source": [
    "current_time = time.time()\n",
    "readings_inside_loop = []\n",
    "while time.time() < current_time+DURATION:\n",
    "    with nidaqmx.Task() as task:\n",
    "        task.ai_channels.add_ai_voltage_chan(\"Dev1/ai0\")\n",
    "        task.ai_channels.add_ai_voltage_chan(\"Dev1/ai1\")\n",
    "        task.ai_channels.add_ai_voltage_chan(\"Dev1/ai2\")\n",
    "        task.ai_channels.add_ai_voltage_chan(\"Dev1/ai3\")\n",
    "        task.ai_channels.add_ai_voltage_chan(\"Dev1/ai4\")\n",
    "        task.ai_channels.add_ai_voltage_chan(\"Dev1/ai5\")\n",
    "\n",
    "        readings_inside_loop.append(task.read())\n",
    "\n",
    "output_inside_loop = sensor.convertToFt(readings_inside_loop[0])\n",
    "print(len(readings_inside_loop))"
   ]
  },
  {
   "cell_type": "code",
   "execution_count": null,
   "metadata": {},
   "outputs": [],
   "source": [
    "current_time = time.time()\n"
   ]
  }
 ],
 "metadata": {
  "kernelspec": {
   "display_name": "Python 3",
   "language": "python",
   "name": "python3"
  },
  "language_info": {
   "codemirror_mode": {
    "name": "ipython",
    "version": 3
   },
   "file_extension": ".py",
   "mimetype": "text/x-python",
   "name": "python",
   "nbconvert_exporter": "python",
   "pygments_lexer": "ipython3",
   "version": "3.10.11"
  },
  "orig_nbformat": 4
 },
 "nbformat": 4,
 "nbformat_minor": 2
}
