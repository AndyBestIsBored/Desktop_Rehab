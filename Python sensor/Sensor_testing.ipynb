{
 "cells": [
  {
   "cell_type": "code",
   "execution_count": 112,
   "metadata": {},
   "outputs": [],
   "source": [
    "import nidaqmx \n",
    "import atiiaftt as ati\n",
    "import time\n",
    "import numpy as np\n",
    "from nidaqmx.stream_readers import AnalogMultiChannelReader\n",
    "import matplotlib.pyplot as plt\n",
    "import pandas as pd\n",
    "from nidaqmx.constants import AcquisitionType"
   ]
  },
  {
   "cell_type": "code",
   "execution_count": 113,
   "metadata": {},
   "outputs": [],
   "source": [
    "CALFILEPATH = \"..\\FT44764\\FT44764.cal\"\n",
    "INDEX = 1\n",
    "\n",
    "with nidaqmx.Task() as task:\n",
    "    task.ai_channels.add_ai_voltage_chan(\"Dev1/ai0\")\n",
    "    task.ai_channels.add_ai_voltage_chan(\"Dev1/ai1\")\n",
    "    task.ai_channels.add_ai_voltage_chan(\"Dev1/ai2\")\n",
    "    task.ai_channels.add_ai_voltage_chan(\"Dev1/ai3\")\n",
    "    task.ai_channels.add_ai_voltage_chan(\"Dev1/ai4\")\n",
    "    task.ai_channels.add_ai_voltage_chan(\"Dev1/ai5\")\n",
    "    \n",
    "    readings = task.read()\n",
    "\n",
    "sampleTT = [0,0,0,0,0,0]\n",
    "\n",
    "sensor = ati.FTSensor()\n",
    "cal = sensor.createCalibration(CALFILEPATH, INDEX)\n",
    "sensor.setForceUnits(\"N\".encode(\"utf-8\"))\n",
    "sensor.setTorqueUnits(\"N-m\".encode(\"utf-8\"))\n",
    "sensor.setToolTransform(sampleTT, \"mm\".encode(\"utf-8\"), \"deg\".encode(\"utf-8\"))\n",
    "\n",
    "DURATION = 5"
   ]
  },
  {
   "cell_type": "code",
   "execution_count": 114,
   "metadata": {},
   "outputs": [
    {
     "name": "stdout",
     "output_type": "stream",
     "text": [
      "Shape size:  (182, 6)\n",
      "Standard Deviation of Force X (N):  0.003857721838954545\n",
      "Average of Force X (N):  1.1917889144394425\n"
     ]
    }
   ],
   "source": [
    "current_time = time.time()\n",
    "readings_inside_loop = []\n",
    "while time.time() < current_time+DURATION:\n",
    "    with nidaqmx.Task() as task:\n",
    "        task.ai_channels.add_ai_voltage_chan(\"Dev1/ai0\")\n",
    "        task.ai_channels.add_ai_voltage_chan(\"Dev1/ai1\")\n",
    "        task.ai_channels.add_ai_voltage_chan(\"Dev1/ai2\")\n",
    "        task.ai_channels.add_ai_voltage_chan(\"Dev1/ai3\")\n",
    "        task.ai_channels.add_ai_voltage_chan(\"Dev1/ai4\")\n",
    "        task.ai_channels.add_ai_voltage_chan(\"Dev1/ai5\")\n",
    "\n",
    "        readings_inside_loop.append(sensor.convertToFt(task.read()))\n",
    "readings_inside_loop = np.array(readings_inside_loop)\n",
    "\n",
    "print(\"Shape size: \", readings_inside_loop.shape)\n",
    "std_readings_inside_loop = readings_inside_loop.transpose()[0].std()\n",
    "print(\"Standard Deviation of Force X (N): \", std_readings_inside_loop)\n",
    "avg_readings_inside_loop = readings_inside_loop.transpose()[0].mean()\n",
    "print(\"Average of Force X (N): \", avg_readings_inside_loop)"
   ]
  },
  {
   "cell_type": "code",
   "execution_count": 115,
   "metadata": {},
   "outputs": [
    {
     "name": "stdout",
     "output_type": "stream",
     "text": [
      "Shape size:  (216, 6)\n",
      "Standard Deviation of Force X (N):  0.003573190425981459\n",
      "Average of Force X (N):  1.191310512246909\n"
     ]
    }
   ],
   "source": [
    "current_time = time.time()\n",
    "readings_outside_loop = []\n",
    "with nidaqmx.Task() as task:\n",
    "    task.ai_channels.add_ai_voltage_chan(\"Dev1/ai0\")\n",
    "    task.ai_channels.add_ai_voltage_chan(\"Dev1/ai1\")\n",
    "    task.ai_channels.add_ai_voltage_chan(\"Dev1/ai2\")\n",
    "    task.ai_channels.add_ai_voltage_chan(\"Dev1/ai3\")\n",
    "    task.ai_channels.add_ai_voltage_chan(\"Dev1/ai4\")\n",
    "    task.ai_channels.add_ai_voltage_chan(\"Dev1/ai5\")\n",
    "    while time.time() < current_time+DURATION:\n",
    "        readings_outside_loop.append(sensor.convertToFt(task.read()))\n",
    "readings_outside_loop = np.array(readings_outside_loop)\n",
    "\n",
    "\n",
    "print(\"Shape size: \", readings_outside_loop.shape)\n",
    "std_readings_outside_loop = readings_outside_loop.transpose()[0].std()\n",
    "print(\"Standard Deviation of Force X (N): \", std_readings_outside_loop)\n",
    "avg_readings_outside_loop = readings_outside_loop.transpose()[0].mean()\n",
    "print(\"Average of Force X (N): \", avg_readings_outside_loop)"
   ]
  },
  {
   "cell_type": "code",
   "execution_count": 116,
   "metadata": {},
   "outputs": [
    {
     "name": "stdout",
     "output_type": "stream",
     "text": [
      "Shape size:  (215, 6)\n",
      "Standard Deviation of Force X (N):  0.0039006248038501914\n",
      "Average of Force X (N):  1.1904202987981396\n"
     ]
    }
   ],
   "source": [
    "readings_multi_read_one = []\n",
    "with nidaqmx.Task() as read_task:\n",
    "    read_task = nidaqmx.Task()\n",
    "    read_task.ai_channels.add_ai_voltage_chan(\"Dev1/ai0\")\n",
    "    read_task.ai_channels.add_ai_voltage_chan(\"Dev1/ai1\")\n",
    "    read_task.ai_channels.add_ai_voltage_chan(\"Dev1/ai2\")\n",
    "    read_task.ai_channels.add_ai_voltage_chan(\"Dev1/ai3\")\n",
    "    read_task.ai_channels.add_ai_voltage_chan(\"Dev1/ai4\")\n",
    "    read_task.ai_channels.add_ai_voltage_chan(\"Dev1/ai5\")\n",
    "    reader = AnalogMultiChannelReader(read_task.in_stream,)\n",
    "    values_read = np.zeros(6, dtype=np.float64)\n",
    "\n",
    "\n",
    "\n",
    "    current_time = time.time()\n",
    "    while time.time() < current_time+DURATION:\n",
    "        reader.read_one_sample(values_read)\n",
    "        \n",
    "        readings_multi_read_one.append(sensor.convertToFt(values_read.tolist()))\n",
    "\n",
    "readings_multi_read_one = np.array(readings_multi_read_one)\n",
    "\n",
    "\n",
    "print(\"Shape size: \", readings_multi_read_one.shape)\n",
    "std_readings_multi_read_one = readings_multi_read_one.transpose()[0].std()\n",
    "print(\"Standard Deviation of Force X (N): \", std_readings_multi_read_one)\n",
    "avg_readings_multi_read_one = readings_multi_read_one.transpose()[0].mean()\n",
    "print(\"Average of Force X (N): \", avg_readings_multi_read_one)"
   ]
  },
  {
   "cell_type": "code",
   "execution_count": 117,
   "metadata": {},
   "outputs": [
    {
     "name": "stdout",
     "output_type": "stream",
     "text": [
      "time passed:  5.037401914596558 (s)\n",
      "Shape size:  (32000, 6)\n",
      "Standard Deviation of Force X (N):  0.003944422318397909\n",
      "Average of Force X (N):  1.188775642607361\n"
     ]
    },
    {
     "name": "stderr",
     "output_type": "stream",
     "text": [
      "c:\\users\\andyb\\appdata\\local\\programs\\python\\python310\\lib\\site-packages\\nidaqmx\\task.py:97: ResourceWarning: Task of name \"_unnamedTask<73D>\" was not explicitly closed before it was destructed. Resources on the task device may still be reserved.\n",
      "  warnings.warn(\n"
     ]
    }
   ],
   "source": [
    "readings_multi_read_many = []\n",
    "with nidaqmx.Task() as read_task:\n",
    "    read_task.ai_channels.add_ai_voltage_chan(\"Dev1/ai0\")\n",
    "    read_task.ai_channels.add_ai_voltage_chan(\"Dev1/ai1\")\n",
    "    read_task.ai_channels.add_ai_voltage_chan(\"Dev1/ai2\")\n",
    "    read_task.ai_channels.add_ai_voltage_chan(\"Dev1/ai3\")\n",
    "    read_task.ai_channels.add_ai_voltage_chan(\"Dev1/ai4\")\n",
    "    read_task.ai_channels.add_ai_voltage_chan(\"Dev1/ai5\")\n",
    "\n",
    "    sample_rate = 6400\n",
    "    samples_to_acq = DURATION * sample_rate\n",
    "    values_read = np.zeros((6, samples_to_acq), dtype=np.float64)\n",
    "    cont_mode = AcquisitionType.CONTINUOUS\n",
    "    read_task.timing.cfg_samp_clk_timing(sample_rate, sample_mode = cont_mode, samps_per_chan = samples_to_acq)               \n",
    "    reader = AnalogMultiChannelReader(read_task.in_stream)\n",
    "\n",
    "    current_time = time.time()\n",
    "    reader.read_many_sample(data=values_read, number_of_samples_per_channel=samples_to_acq, timeout=11)\n",
    "    test_time = time.time()\n",
    "    print(\"time passed: \", test_time-current_time,\"(s)\")\n",
    "\n",
    "readings_multi_read_many = np.array([np.array(channel) for channel in values_read]).transpose()\n",
    "readings_multi_read_many = np.array([sensor.convertToFt(reading.tolist()) for reading in readings_multi_read_many])\n",
    "\n",
    "print(\"Shape size: \", readings_multi_read_many.shape)\n",
    "std_readings_multi_read_many = readings_multi_read_many.transpose()[0].std()\n",
    "print(\"Standard Deviation of Force X (N): \", std_readings_multi_read_many)\n",
    "avg_readings_multi_read_many = readings_multi_read_many.transpose()[0].mean()\n",
    "print(\"Average of Force X (N): \", avg_readings_multi_read_many)"
   ]
  },
  {
   "cell_type": "code",
   "execution_count": 118,
   "metadata": {},
   "outputs": [
    {
     "name": "stdout",
     "output_type": "stream",
     "text": [
      "Shape size:  (500, 6)\n",
      "Standard Deviation of Force X (N):  0.0018800538336572557\n",
      "Average of Force X (N):  1.1916512076854706\n"
     ]
    }
   ],
   "source": [
    "FOLDER_DIR = \"..\\Joey\\Record_Data\"\n",
    "\n",
    "demo_df = pd.read_csv(FOLDER_DIR+\"\\Demo\\Sensor_2.csv\")\n",
    "\n",
    "demo_df.drop(demo_df.columns[6:], axis=1, inplace=True)\n",
    "\n",
    "print(\"Shape size: \", demo_df.shape)\n",
    "print(\"Standard Deviation of Force X (N): \", demo_df[\"Force X (N)\"].std())\n",
    "print(\"Average of Force X (N): \", demo_df[\"Force X (N)\"].mean())"
   ]
  }
 ],
 "metadata": {
  "kernelspec": {
   "display_name": "Python 3",
   "language": "python",
   "name": "python3"
  },
  "language_info": {
   "codemirror_mode": {
    "name": "ipython",
    "version": 3
   },
   "file_extension": ".py",
   "mimetype": "text/x-python",
   "name": "python",
   "nbconvert_exporter": "python",
   "pygments_lexer": "ipython3",
   "version": "3.10.11"
  },
  "orig_nbformat": 4
 },
 "nbformat": 4,
 "nbformat_minor": 2
}
