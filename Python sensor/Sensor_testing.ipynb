{
 "cells": [
  {
   "cell_type": "code",
   "execution_count": 1,
   "metadata": {},
   "outputs": [],
   "source": [
    "import nidaqmx \n",
    "import atiiaftt as ati\n",
    "import time\n",
    "import numpy as np\n",
    "from nidaqmx.stream_readers import AnalogMultiChannelReader\n",
    "import matplotlib.pyplot as plt\n",
    "import pandas as pd\n",
    "from nidaqmx.constants import AcquisitionType\n",
    "from pprint import pprint"
   ]
  },
  {
   "attachments": {},
   "cell_type": "markdown",
   "metadata": {},
   "source": [
    "start_task\n",
    "close_task\n",
    "\n",
    "read_raw_voltage\n",
    "read_avg_voltage\n",
    "read_raw_ft\n",
    "read_avg_ft\n",
    "\n",
    "set_bias(bias=None)\n",
    "\n",
    "set_channel_number\n",
    "set_sampling_freq\n",
    "set_read_freq\n",
    "\n",
    "get_calibration_file_path\n",
    "get_tool_offset\n",
    "get_channel_number\n",
    "get_sampling_freq\n",
    "get_read_freq\n",
    "get_sample_number"
   ]
  },
  {
   "cell_type": "code",
   "execution_count": 18,
   "metadata": {},
   "outputs": [],
   "source": [
    "class ftsensor:\n",
    "    def __avg(lst):\n",
    "        return sum(lst) / len(lst)\n",
    "\n",
    "    def __init__(self, calibration_file_path=\"..\\FT44764\\FT44764.cal\", tool_offset=[0,0,0,0,0,0]):\n",
    "        self.calibration_file_path = calibration_file_path\n",
    "        self.tool_offset = tool_offset\n",
    "        self.channel_number = 6\n",
    "        self.sampling_freq = 6400\n",
    "        self.read_freq = 64\n",
    "        self.sample_number = self.sampling_freq//self.read_freq\n",
    "        self.raw_readings = np.zeros((self.channel_number, self.sample_number), dtype=np.float64)\n",
    "        \n",
    "        self.sensor = ati.FTSensor()\n",
    "        self.calibrate(calibration_file_path=self.calibration_file_path)\n",
    "        self.set_tool(self.tool_offset)\n",
    "\n",
    "    def calibrate(self, calibration_file_path):\n",
    "        self.sensor.createCalibration(calibration_file_path, 1)\n",
    "        self.sensor.setForceUnits(\"N\".encode(\"utf-8\"))\n",
    "        self.sensor.setTorqueUnits(\"N-m\".encode(\"utf-8\"))\n",
    "        \n",
    "    def set_tool(self, tool_offset):\n",
    "        self.sensor.setToolTransform(tool_offset, \"mm\".encode(\"utf-8\"), \"deg\".encode(\"utf-8\"))\n",
    "\n",
    "    def start_task(self):\n",
    "        self.task = nidaqmx.Task()\n",
    "        for i in range(self.channel_number):\n",
    "            self.task.ai_channels.add_ai_voltage_chan(f\"Dev1/ai{i}\")\n",
    "        self.task.timing.cfg_samp_clk_timing(self.sampling_freq, sample_mode = AcquisitionType.CONTINUOUS, samps_per_chan = self.sample_number)\n",
    "        self.reader = AnalogMultiChannelReader(self.task.in_stream)\n",
    "    \n",
    "    def close_task(self):\n",
    "        self.task.close()\n",
    "\n",
    "    def read_raw_voltage(self):\n",
    "        self.reader.read_many_sample(data=self.raw_readings, number_of_samples_per_channel=self.sample_number, timeout=1/self.read_freq)\n",
    "        return self.raw_readings"
   ]
  },
  {
   "cell_type": "code",
   "execution_count": 19,
   "metadata": {},
   "outputs": [
    {
     "name": "stderr",
     "output_type": "stream",
     "text": [
      "c:\\users\\andyb\\appdata\\local\\programs\\python\\python310\\lib\\site-packages\\nidaqmx\\task.py:97: ResourceWarning: Task of name \"_unnamedTask<3>\" was not explicitly closed before it was destructed. Resources on the task device may still be reserved.\n",
      "  warnings.warn(\n"
     ]
    },
    {
     "ename": "DaqError",
     "evalue": "Device cannot be accessed.  Possible causes:\nDevice is no longer present in the system.\nDevice is not powered.\nDevice is powered, but was temporarily without power.\nDevice and/or chassis driver support may have been removed.\nDevice is damaged.\nEnsure the device is properly connected and turned on. Ensure the device and/or chassis is supported in the current version of the driver. Check the device's status in NI MAX. Turn the computer off and on again. If you suspect that the device is damaged, contact National Instruments at ni.com/support.\nDevice Specified: Dev1\n\nTask Name: _unnamedTask<4>\n\nStatus Code: -201003",
     "output_type": "error",
     "traceback": [
      "\u001b[1;31m---------------------------------------------------------------------------\u001b[0m",
      "\u001b[1;31mDaqError\u001b[0m                                  Traceback (most recent call last)",
      "\u001b[1;32mc:\\Users\\andyb\\Documents\\Desktop_Rehab\\Python sensor\\Sensor_testing.ipynb Cell 4\u001b[0m in \u001b[0;36m<cell line: 2>\u001b[1;34m()\u001b[0m\n\u001b[0;32m      <a href='vscode-notebook-cell:/c%3A/Users/andyb/Documents/Desktop_Rehab/Python%20sensor/Sensor_testing.ipynb#X15sZmlsZQ%3D%3D?line=0'>1</a>\u001b[0m sensor \u001b[39m=\u001b[39m ftsensor()\n\u001b[1;32m----> <a href='vscode-notebook-cell:/c%3A/Users/andyb/Documents/Desktop_Rehab/Python%20sensor/Sensor_testing.ipynb#X15sZmlsZQ%3D%3D?line=1'>2</a>\u001b[0m sensor\u001b[39m.\u001b[39;49mstart_task()\n\u001b[0;32m      <a href='vscode-notebook-cell:/c%3A/Users/andyb/Documents/Desktop_Rehab/Python%20sensor/Sensor_testing.ipynb#X15sZmlsZQ%3D%3D?line=2'>3</a>\u001b[0m \u001b[39mprint\u001b[39m(sensor\u001b[39m.\u001b[39mread_raw_voltage())\n\u001b[0;32m      <a href='vscode-notebook-cell:/c%3A/Users/andyb/Documents/Desktop_Rehab/Python%20sensor/Sensor_testing.ipynb#X15sZmlsZQ%3D%3D?line=3'>4</a>\u001b[0m sensor\u001b[39m.\u001b[39mclose_task()\n",
      "\u001b[1;32mc:\\Users\\andyb\\Documents\\Desktop_Rehab\\Python sensor\\Sensor_testing.ipynb Cell 4\u001b[0m in \u001b[0;36mftsensor.start_task\u001b[1;34m(self)\u001b[0m\n\u001b[0;32m     <a href='vscode-notebook-cell:/c%3A/Users/andyb/Documents/Desktop_Rehab/Python%20sensor/Sensor_testing.ipynb#X15sZmlsZQ%3D%3D?line=26'>27</a>\u001b[0m \u001b[39mself\u001b[39m\u001b[39m.\u001b[39mtask \u001b[39m=\u001b[39m nidaqmx\u001b[39m.\u001b[39mTask()\n\u001b[0;32m     <a href='vscode-notebook-cell:/c%3A/Users/andyb/Documents/Desktop_Rehab/Python%20sensor/Sensor_testing.ipynb#X15sZmlsZQ%3D%3D?line=27'>28</a>\u001b[0m \u001b[39mfor\u001b[39;00m i \u001b[39min\u001b[39;00m \u001b[39mrange\u001b[39m(\u001b[39mself\u001b[39m\u001b[39m.\u001b[39mchannel_number):\n\u001b[1;32m---> <a href='vscode-notebook-cell:/c%3A/Users/andyb/Documents/Desktop_Rehab/Python%20sensor/Sensor_testing.ipynb#X15sZmlsZQ%3D%3D?line=28'>29</a>\u001b[0m     \u001b[39mself\u001b[39;49m\u001b[39m.\u001b[39;49mtask\u001b[39m.\u001b[39;49mai_channels\u001b[39m.\u001b[39;49madd_ai_voltage_chan(\u001b[39mf\u001b[39;49m\u001b[39m\"\u001b[39;49m\u001b[39mDev1/ai\u001b[39;49m\u001b[39m{\u001b[39;49;00mi\u001b[39m}\u001b[39;49;00m\u001b[39m\"\u001b[39;49m)\n\u001b[0;32m     <a href='vscode-notebook-cell:/c%3A/Users/andyb/Documents/Desktop_Rehab/Python%20sensor/Sensor_testing.ipynb#X15sZmlsZQ%3D%3D?line=29'>30</a>\u001b[0m \u001b[39mself\u001b[39m\u001b[39m.\u001b[39mtask\u001b[39m.\u001b[39mtiming\u001b[39m.\u001b[39mcfg_samp_clk_timing(\u001b[39mself\u001b[39m\u001b[39m.\u001b[39msampling_freq, sample_mode \u001b[39m=\u001b[39m AcquisitionType\u001b[39m.\u001b[39mCONTINUOUS, samps_per_chan \u001b[39m=\u001b[39m \u001b[39mself\u001b[39m\u001b[39m.\u001b[39msample_number)\n\u001b[0;32m     <a href='vscode-notebook-cell:/c%3A/Users/andyb/Documents/Desktop_Rehab/Python%20sensor/Sensor_testing.ipynb#X15sZmlsZQ%3D%3D?line=30'>31</a>\u001b[0m \u001b[39mself\u001b[39m\u001b[39m.\u001b[39mreader \u001b[39m=\u001b[39m AnalogMultiChannelReader(\u001b[39mself\u001b[39m\u001b[39m.\u001b[39mtask\u001b[39m.\u001b[39min_stream)\n",
      "File \u001b[1;32mc:\\users\\andyb\\appdata\\local\\programs\\python\\python310\\lib\\site-packages\\nidaqmx\\_task_modules\\ai_channel_collection.py:2603\u001b[0m, in \u001b[0;36mAIChannelCollection.add_ai_voltage_chan\u001b[1;34m(self, physical_channel, name_to_assign_to_channel, terminal_config, min_val, max_val, units, custom_scale_name)\u001b[0m\n\u001b[0;32m   2594\u001b[0m             cfunc\u001b[39m.\u001b[39margtypes \u001b[39m=\u001b[39m [\n\u001b[0;32m   2595\u001b[0m                 lib_importer\u001b[39m.\u001b[39mtask_handle, ctypes_byte_str,\n\u001b[0;32m   2596\u001b[0m                 ctypes_byte_str, ctypes\u001b[39m.\u001b[39mc_int, ctypes\u001b[39m.\u001b[39mc_double,\n\u001b[0;32m   2597\u001b[0m                 ctypes\u001b[39m.\u001b[39mc_double, ctypes\u001b[39m.\u001b[39mc_int, ctypes_byte_str]\n\u001b[0;32m   2599\u001b[0m error_code \u001b[39m=\u001b[39m cfunc(\n\u001b[0;32m   2600\u001b[0m     \u001b[39mself\u001b[39m\u001b[39m.\u001b[39m_handle, physical_channel, name_to_assign_to_channel,\n\u001b[0;32m   2601\u001b[0m     terminal_config\u001b[39m.\u001b[39mvalue, min_val, max_val, units\u001b[39m.\u001b[39mvalue,\n\u001b[0;32m   2602\u001b[0m     custom_scale_name)\n\u001b[1;32m-> 2603\u001b[0m check_for_error(error_code)\n\u001b[0;32m   2605\u001b[0m \u001b[39mreturn\u001b[39;00m \u001b[39mself\u001b[39m\u001b[39m.\u001b[39m_create_chan(physical_channel, name_to_assign_to_channel)\n",
      "File \u001b[1;32mc:\\users\\andyb\\appdata\\local\\programs\\python\\python310\\lib\\site-packages\\nidaqmx\\errors.py:183\u001b[0m, in \u001b[0;36mcheck_for_error\u001b[1;34m(error_code, samps_per_chan_written, samps_per_chan_read)\u001b[0m\n\u001b[0;32m    181\u001b[0m         \u001b[39mraise\u001b[39;00m DaqWriteError(error_buffer\u001b[39m.\u001b[39mvalue\u001b[39m.\u001b[39mdecode(\u001b[39m\"\u001b[39m\u001b[39mutf-8\u001b[39m\u001b[39m\"\u001b[39m), error_code, samps_per_chan_written)\n\u001b[0;32m    182\u001b[0m     \u001b[39melse\u001b[39;00m:\n\u001b[1;32m--> 183\u001b[0m         \u001b[39mraise\u001b[39;00m DaqError(error_buffer\u001b[39m.\u001b[39mvalue\u001b[39m.\u001b[39mdecode(\u001b[39m\"\u001b[39m\u001b[39mutf-8\u001b[39m\u001b[39m\"\u001b[39m), error_code)\n\u001b[0;32m    185\u001b[0m \u001b[39melif\u001b[39;00m error_code \u001b[39m>\u001b[39m \u001b[39m0\u001b[39m:\n\u001b[0;32m    186\u001b[0m     error_buffer \u001b[39m=\u001b[39m ctypes\u001b[39m.\u001b[39mcreate_string_buffer(\u001b[39m2048\u001b[39m)\n",
      "\u001b[1;31mDaqError\u001b[0m: Device cannot be accessed.  Possible causes:\nDevice is no longer present in the system.\nDevice is not powered.\nDevice is powered, but was temporarily without power.\nDevice and/or chassis driver support may have been removed.\nDevice is damaged.\nEnsure the device is properly connected and turned on. Ensure the device and/or chassis is supported in the current version of the driver. Check the device's status in NI MAX. Turn the computer off and on again. If you suspect that the device is damaged, contact National Instruments at ni.com/support.\nDevice Specified: Dev1\n\nTask Name: _unnamedTask<4>\n\nStatus Code: -201003"
     ]
    }
   ],
   "source": [
    "sensor = ftsensor()\n",
    "sensor.start_task()\n",
    "print(sensor.read_raw_voltage())\n",
    "sensor.close_task()"
   ]
  },
  {
   "cell_type": "code",
   "execution_count": 5,
   "metadata": {},
   "outputs": [
    {
     "ename": "DaqError",
     "evalue": "Device cannot be accessed.  Possible causes:\nDevice is no longer present in the system.\nDevice is not powered.\nDevice is powered, but was temporarily without power.\nDevice and/or chassis driver support may have been removed.\nDevice is damaged.\nEnsure the device is properly connected and turned on. Ensure the device and/or chassis is supported in the current version of the driver. Check the device's status in NI MAX. Turn the computer off and on again. If you suspect that the device is damaged, contact National Instruments at ni.com/support.\nDevice Specified: Dev1\n\nTask Name: _unnamedTask<1>\n\nStatus Code: -201003",
     "output_type": "error",
     "traceback": [
      "\u001b[1;31m---------------------------------------------------------------------------\u001b[0m",
      "\u001b[1;31mDaqError\u001b[0m                                  Traceback (most recent call last)",
      "\u001b[1;32mc:\\Users\\andyb\\Documents\\Desktop_Rehab\\Python sensor\\Sensor_testing.ipynb Cell 2\u001b[0m in \u001b[0;36m<cell line: 21>\u001b[1;34m()\u001b[0m\n\u001b[0;32m     <a href='vscode-notebook-cell:/c%3A/Users/andyb/Documents/Desktop_Rehab/Python%20sensor/Sensor_testing.ipynb#W1sZmlsZQ%3D%3D?line=20'>21</a>\u001b[0m \u001b[39mwith\u001b[39;00m nidaqmx\u001b[39m.\u001b[39mTask() \u001b[39mas\u001b[39;00m task:\n\u001b[0;32m     <a href='vscode-notebook-cell:/c%3A/Users/andyb/Documents/Desktop_Rehab/Python%20sensor/Sensor_testing.ipynb#W1sZmlsZQ%3D%3D?line=21'>22</a>\u001b[0m     \u001b[39mfor\u001b[39;00m i \u001b[39min\u001b[39;00m \u001b[39mrange\u001b[39m(CHANNEL_NUM):\n\u001b[1;32m---> <a href='vscode-notebook-cell:/c%3A/Users/andyb/Documents/Desktop_Rehab/Python%20sensor/Sensor_testing.ipynb#W1sZmlsZQ%3D%3D?line=22'>23</a>\u001b[0m         task\u001b[39m.\u001b[39;49mai_channels\u001b[39m.\u001b[39;49madd_ai_voltage_chan(\u001b[39mf\u001b[39;49m\u001b[39m\"\u001b[39;49m\u001b[39mDev1/ai\u001b[39;49m\u001b[39m{\u001b[39;49;00mi\u001b[39m}\u001b[39;49;00m\u001b[39m\"\u001b[39;49m)\n\u001b[0;32m     <a href='vscode-notebook-cell:/c%3A/Users/andyb/Documents/Desktop_Rehab/Python%20sensor/Sensor_testing.ipynb#W1sZmlsZQ%3D%3D?line=24'>25</a>\u001b[0m     task\u001b[39m.\u001b[39mtiming\u001b[39m.\u001b[39mcfg_samp_clk_timing(SAMPLING_FREQ, sample_mode \u001b[39m=\u001b[39m AcquisitionType\u001b[39m.\u001b[39mCONTINUOUS, samps_per_chan \u001b[39m=\u001b[39m SAMPLE_NUM)\n\u001b[0;32m     <a href='vscode-notebook-cell:/c%3A/Users/andyb/Documents/Desktop_Rehab/Python%20sensor/Sensor_testing.ipynb#W1sZmlsZQ%3D%3D?line=25'>26</a>\u001b[0m     reader \u001b[39m=\u001b[39m AnalogMultiChannelReader(task\u001b[39m.\u001b[39min_stream)\n",
      "File \u001b[1;32mc:\\users\\andyb\\appdata\\local\\programs\\python\\python310\\lib\\site-packages\\nidaqmx\\_task_modules\\ai_channel_collection.py:2603\u001b[0m, in \u001b[0;36mAIChannelCollection.add_ai_voltage_chan\u001b[1;34m(self, physical_channel, name_to_assign_to_channel, terminal_config, min_val, max_val, units, custom_scale_name)\u001b[0m\n\u001b[0;32m   2594\u001b[0m             cfunc\u001b[39m.\u001b[39margtypes \u001b[39m=\u001b[39m [\n\u001b[0;32m   2595\u001b[0m                 lib_importer\u001b[39m.\u001b[39mtask_handle, ctypes_byte_str,\n\u001b[0;32m   2596\u001b[0m                 ctypes_byte_str, ctypes\u001b[39m.\u001b[39mc_int, ctypes\u001b[39m.\u001b[39mc_double,\n\u001b[0;32m   2597\u001b[0m                 ctypes\u001b[39m.\u001b[39mc_double, ctypes\u001b[39m.\u001b[39mc_int, ctypes_byte_str]\n\u001b[0;32m   2599\u001b[0m error_code \u001b[39m=\u001b[39m cfunc(\n\u001b[0;32m   2600\u001b[0m     \u001b[39mself\u001b[39m\u001b[39m.\u001b[39m_handle, physical_channel, name_to_assign_to_channel,\n\u001b[0;32m   2601\u001b[0m     terminal_config\u001b[39m.\u001b[39mvalue, min_val, max_val, units\u001b[39m.\u001b[39mvalue,\n\u001b[0;32m   2602\u001b[0m     custom_scale_name)\n\u001b[1;32m-> 2603\u001b[0m check_for_error(error_code)\n\u001b[0;32m   2605\u001b[0m \u001b[39mreturn\u001b[39;00m \u001b[39mself\u001b[39m\u001b[39m.\u001b[39m_create_chan(physical_channel, name_to_assign_to_channel)\n",
      "File \u001b[1;32mc:\\users\\andyb\\appdata\\local\\programs\\python\\python310\\lib\\site-packages\\nidaqmx\\errors.py:183\u001b[0m, in \u001b[0;36mcheck_for_error\u001b[1;34m(error_code, samps_per_chan_written, samps_per_chan_read)\u001b[0m\n\u001b[0;32m    181\u001b[0m         \u001b[39mraise\u001b[39;00m DaqWriteError(error_buffer\u001b[39m.\u001b[39mvalue\u001b[39m.\u001b[39mdecode(\u001b[39m\"\u001b[39m\u001b[39mutf-8\u001b[39m\u001b[39m\"\u001b[39m), error_code, samps_per_chan_written)\n\u001b[0;32m    182\u001b[0m     \u001b[39melse\u001b[39;00m:\n\u001b[1;32m--> 183\u001b[0m         \u001b[39mraise\u001b[39;00m DaqError(error_buffer\u001b[39m.\u001b[39mvalue\u001b[39m.\u001b[39mdecode(\u001b[39m\"\u001b[39m\u001b[39mutf-8\u001b[39m\u001b[39m\"\u001b[39m), error_code)\n\u001b[0;32m    185\u001b[0m \u001b[39melif\u001b[39;00m error_code \u001b[39m>\u001b[39m \u001b[39m0\u001b[39m:\n\u001b[0;32m    186\u001b[0m     error_buffer \u001b[39m=\u001b[39m ctypes\u001b[39m.\u001b[39mcreate_string_buffer(\u001b[39m2048\u001b[39m)\n",
      "\u001b[1;31mDaqError\u001b[0m: Device cannot be accessed.  Possible causes:\nDevice is no longer present in the system.\nDevice is not powered.\nDevice is powered, but was temporarily without power.\nDevice and/or chassis driver support may have been removed.\nDevice is damaged.\nEnsure the device is properly connected and turned on. Ensure the device and/or chassis is supported in the current version of the driver. Check the device's status in NI MAX. Turn the computer off and on again. If you suspect that the device is damaged, contact National Instruments at ni.com/support.\nDevice Specified: Dev1\n\nTask Name: _unnamedTask<1>\n\nStatus Code: -201003"
     ]
    }
   ],
   "source": [
    "CHANNEL_NUM = 6\n",
    "SAMPLING_FREQ = 6400\n",
    "READ_FREQ = 64\n",
    "SAMPLE_NUM = SAMPLING_FREQ//READ_FREQ\n",
    "values = np.zeros((CHANNEL_NUM, SAMPLE_NUM), dtype=np.float64)\n",
    "\n",
    "DURATION = 5\n",
    "\n",
    "sensor = ati.FTSensor()\n",
    "\n",
    "CALFILEPATH = \"..\\FT44764\\FT44764.cal\"\n",
    "INDEX = 1\n",
    "cal = sensor.createCalibration(CALFILEPATH, INDEX)\n",
    "\n",
    "sensor.setForceUnits(\"N\".encode(\"utf-8\"))\n",
    "sensor.setTorqueUnits(\"N-m\".encode(\"utf-8\"))\n",
    "\n",
    "TOOL_OFFSET = [0,0,0,0,0,0]\n",
    "sensor.setToolTransform(TOOL_OFFSET, \"mm\".encode(\"utf-8\"), \"deg\".encode(\"utf-8\"))\n",
    "\n",
    "with nidaqmx.Task() as task:\n",
    "    for i in range(CHANNEL_NUM):\n",
    "        task.ai_channels.add_ai_voltage_chan(f\"Dev1/ai{i}\")\n",
    "\n",
    "    task.timing.cfg_samp_clk_timing(SAMPLING_FREQ, sample_mode = AcquisitionType.CONTINUOUS, samps_per_chan = SAMPLE_NUM)\n",
    "    reader = AnalogMultiChannelReader(task.in_stream)\n",
    "    \n",
    "    reader.read_many_sample(data=values, number_of_samples_per_channel=SAMPLE_NUM, timeout=1/READ_FREQ)"
   ]
  },
  {
   "cell_type": "code",
   "execution_count": null,
   "metadata": {},
   "outputs": [],
   "source": []
  },
  {
   "cell_type": "code",
   "execution_count": 69,
   "metadata": {},
   "outputs": [
    {
     "name": "stdout",
     "output_type": "stream",
     "text": [
      "Shape size:  (178, 6)\n",
      "Standard Deviation of Force X (N):  0.26224823465651237\n",
      "Average of Force X (N):  1.3109888725736167\n"
     ]
    }
   ],
   "source": [
    "current_time = time.time()\n",
    "readings_inside_loop = []\n",
    "while time.time() < current_time+DURATION:\n",
    "    with nidaqmx.Task() as task:\n",
    "        task.ai_channels.add_ai_voltage_chan(\"Dev1/ai0\")\n",
    "        task.ai_channels.add_ai_voltage_chan(\"Dev1/ai1\")\n",
    "        task.ai_channels.add_ai_voltage_chan(\"Dev1/ai2\")\n",
    "        task.ai_channels.add_ai_voltage_chan(\"Dev1/ai3\")\n",
    "        task.ai_channels.add_ai_voltage_chan(\"Dev1/ai4\")\n",
    "        task.ai_channels.add_ai_voltage_chan(\"Dev1/ai5\")\n",
    "\n",
    "        readings_inside_loop.append(sensor.convertToFt(task.read()))\n",
    "readings_inside_loop = np.array(readings_inside_loop)\n",
    "\n",
    "print(\"Shape size: \", readings_inside_loop.shape)\n",
    "std_readings_inside_loop = readings_inside_loop.transpose()[0].std()\n",
    "print(\"Standard Deviation of Force X (N): \", std_readings_inside_loop)\n",
    "avg_readings_inside_loop = readings_inside_loop.transpose()[0].mean()\n",
    "print(\"Average of Force X (N): \", avg_readings_inside_loop)"
   ]
  },
  {
   "cell_type": "code",
   "execution_count": 70,
   "metadata": {},
   "outputs": [
    {
     "name": "stdout",
     "output_type": "stream",
     "text": [
      "Shape size:  (202, 6)\n",
      "Standard Deviation of Force X (N):  0.16941986935109848\n",
      "Average of Force X (N):  1.320638337347767\n"
     ]
    }
   ],
   "source": [
    "current_time = time.time()\n",
    "readings_outside_loop = []\n",
    "with nidaqmx.Task() as task:\n",
    "    task.ai_channels.add_ai_voltage_chan(\"Dev1/ai0\")\n",
    "    task.ai_channels.add_ai_voltage_chan(\"Dev1/ai1\")\n",
    "    task.ai_channels.add_ai_voltage_chan(\"Dev1/ai2\")\n",
    "    task.ai_channels.add_ai_voltage_chan(\"Dev1/ai3\")\n",
    "    task.ai_channels.add_ai_voltage_chan(\"Dev1/ai4\")\n",
    "    task.ai_channels.add_ai_voltage_chan(\"Dev1/ai5\")\n",
    "    while time.time() < current_time+DURATION:\n",
    "        readings_outside_loop.append(sensor.convertToFt(task.read()))\n",
    "readings_outside_loop = np.array(readings_outside_loop)\n",
    "\n",
    "\n",
    "print(\"Shape size: \", readings_outside_loop.shape)\n",
    "std_readings_outside_loop = readings_outside_loop.transpose()[0].std()\n",
    "print(\"Standard Deviation of Force X (N): \", std_readings_outside_loop)\n",
    "avg_readings_outside_loop = readings_outside_loop.transpose()[0].mean()\n",
    "print(\"Average of Force X (N): \", avg_readings_outside_loop)"
   ]
  },
  {
   "cell_type": "code",
   "execution_count": 71,
   "metadata": {},
   "outputs": [
    {
     "name": "stdout",
     "output_type": "stream",
     "text": [
      "Shape size:  (222, 6)\n",
      "Standard Deviation of Force X (N):  0.18509847560472495\n",
      "Average of Force X (N):  1.2915892128471855\n"
     ]
    }
   ],
   "source": [
    "readings_multi_read_one = []\n",
    "with nidaqmx.Task() as read_task:\n",
    "    read_task = nidaqmx.Task()\n",
    "    read_task.ai_channels.add_ai_voltage_chan(\"Dev1/ai0\")\n",
    "    read_task.ai_channels.add_ai_voltage_chan(\"Dev1/ai1\")\n",
    "    read_task.ai_channels.add_ai_voltage_chan(\"Dev1/ai2\")\n",
    "    read_task.ai_channels.add_ai_voltage_chan(\"Dev1/ai3\")\n",
    "    read_task.ai_channels.add_ai_voltage_chan(\"Dev1/ai4\")\n",
    "    read_task.ai_channels.add_ai_voltage_chan(\"Dev1/ai5\")\n",
    "    reader = AnalogMultiChannelReader(read_task.in_stream,)\n",
    "    values_read = np.zeros(6, dtype=np.float64)\n",
    "\n",
    "\n",
    "\n",
    "    current_time = time.time()\n",
    "    while time.time() < current_time+DURATION:\n",
    "        reader.read_one_sample(values_read)\n",
    "        \n",
    "        readings_multi_read_one.append(sensor.convertToFt(values_read.tolist()))\n",
    "\n",
    "readings_multi_read_one = np.array(readings_multi_read_one)\n",
    "\n",
    "\n",
    "print(\"Shape size: \", readings_multi_read_one.shape)\n",
    "std_readings_multi_read_one = readings_multi_read_one.transpose()[0].std()\n",
    "print(\"Standard Deviation of Force X (N): \", std_readings_multi_read_one)\n",
    "avg_readings_multi_read_one = readings_multi_read_one.transpose()[0].mean()\n",
    "print(\"Average of Force X (N): \", avg_readings_multi_read_one)"
   ]
  },
  {
   "cell_type": "code",
   "execution_count": 72,
   "metadata": {},
   "outputs": [
    {
     "name": "stdout",
     "output_type": "stream",
     "text": [
      "time passed:  5.024990797042847 (s)\n",
      "Standard Deviation of Force X (N):  0.2332736744298239\n",
      "Average of Force X (N):  1.3055461626704783\n"
     ]
    },
    {
     "name": "stderr",
     "output_type": "stream",
     "text": [
      "c:\\Users\\HP\\AppData\\Local\\Programs\\Python\\Python310\\lib\\site-packages\\nidaqmx\\task.py:97: ResourceWarning: Task of name \"_unnamedTask<258>\" was not explicitly closed before it was destructed. Resources on the task device may still be reserved.\n",
      "  warnings.warn(\n"
     ]
    }
   ],
   "source": [
    "readings_multi_read_many = []\n",
    "with nidaqmx.Task() as read_task:\n",
    "    read_task.ai_channels.add_ai_voltage_chan(\"Dev1/ai0\")\n",
    "    read_task.ai_channels.add_ai_voltage_chan(\"Dev1/ai1\")\n",
    "    read_task.ai_channels.add_ai_voltage_chan(\"Dev1/ai2\")\n",
    "    read_task.ai_channels.add_ai_voltage_chan(\"Dev1/ai3\")\n",
    "    read_task.ai_channels.add_ai_voltage_chan(\"Dev1/ai4\")\n",
    "    read_task.ai_channels.add_ai_voltage_chan(\"Dev1/ai5\")\n",
    "\n",
    "    sample_rate = 6400\n",
    "    samples_to_acq = DURATION * sample_rate\n",
    "    values_read = np.zeros((6, samples_to_acq), dtype=np.float64)\n",
    "    cont_mode = AcquisitionType.CONTINUOUS\n",
    "    read_task.timing.cfg_samp_clk_timing(sample_rate, sample_mode = cont_mode, samps_per_chan = samples_to_acq)               \n",
    "    reader = AnalogMultiChannelReader(read_task.in_stream)\n",
    "\n",
    "    current_time = time.time()\n",
    "    reader.read_many_sample(data=values_read, number_of_samples_per_channel=samples_to_acq, timeout=11)\n",
    "    test_time = time.time()\n",
    "    print(\"time passed: \", test_time-current_time,\"(s)\")\n",
    "\n",
    "readings_multi_read_many = np.array([np.array(channel) for channel in values_read]).transpose()\n",
    "readings_multi_read_many = np.array([sensor.convertToFt(reading.tolist()) for reading in readings_multi_read_many])\n",
    "\n",
    "std_readings_multi_read_many = readings_multi_read_many.transpose()[0].std()\n",
    "print(\"Standard Deviation of Force X (N): \", std_readings_multi_read_many)\n",
    "avg_readings_multi_read_many = readings_multi_read_many.transpose()[0].mean()\n",
    "print(\"Average of Force X (N): \", avg_readings_multi_read_many)"
   ]
  },
  {
   "cell_type": "code",
   "execution_count": 115,
   "metadata": {},
   "outputs": [
    {
     "name": "stdout",
     "output_type": "stream",
     "text": [
      "time passed:  5.024467706680298 (s)\n",
      "Standard Deviation of Force X (N):  0.0009793974322685006\n",
      "Average of Force X (N):  1.289738005027175\n"
     ]
    }
   ],
   "source": [
    "sample_rate = 6400\n",
    "samples_to_acq = DURATION * sample_rate\n",
    "values_read = np.zeros((6, samples_to_acq), dtype=np.float64)\n",
    "\n",
    "with nidaqmx.Task() as read_task:\n",
    "    read_task.ai_channels.add_ai_voltage_chan(\"Dev1/ai0\")\n",
    "    read_task.ai_channels.add_ai_voltage_chan(\"Dev1/ai1\")\n",
    "    read_task.ai_channels.add_ai_voltage_chan(\"Dev1/ai2\")\n",
    "    read_task.ai_channels.add_ai_voltage_chan(\"Dev1/ai3\")\n",
    "    read_task.ai_channels.add_ai_voltage_chan(\"Dev1/ai4\")\n",
    "    read_task.ai_channels.add_ai_voltage_chan(\"Dev1/ai5\")\n",
    "    \n",
    "    read_task.timing.cfg_samp_clk_timing(sample_rate, sample_mode = AcquisitionType.CONTINUOUS, samps_per_chan = samples_to_acq)               \n",
    "    \n",
    "    reader = AnalogMultiChannelReader(read_task.in_stream)\n",
    "\n",
    "    current_time = time.time()\n",
    "    reader.read_many_sample(data=values_read, number_of_samples_per_channel=samples_to_acq, timeout=DURATION)\n",
    "    test_time = time.time()\n",
    "    print(\"time passed: \", test_time-current_time,\"(s)\")\n",
    "\n",
    "final_readings = [[__avg(sample) for sample in channel] for channel in np.reshape(values_read, (6, 32000//100,100))]\n",
    "\n",
    "final_ft = np.array([sensor.convertToFt([final_readings[i][j] for i in range(len(final_readings))]) for j in range(len(final_readings[0]))])\n",
    "\n",
    "std_final_ft = final_ft.transpose()[0].std()\n",
    "print(\"Standard Deviation of Force X (N): \", std_final_ft)\n",
    "avg_final_ft = final_ft.transpose()[0].mean()\n",
    "print(\"Average of Force X (N): \", avg_final_ft)"
   ]
  },
  {
   "cell_type": "code",
   "execution_count": 114,
   "metadata": {},
   "outputs": [
    {
     "name": "stdout",
     "output_type": "stream",
     "text": [
      "[-0.12558438 -0.12561725 -0.12558602 -0.12558438 -0.1255778  -0.12554987\n",
      " -0.12561232 -0.12560903 -0.1256041  -0.12557287 -0.12554987 -0.12558767\n",
      " -0.12558602 -0.12557123 -0.12559424 -0.1255663  -0.12558767 -0.12555808\n",
      " -0.12554822 -0.12558767 -0.12562382 -0.1256041  -0.12561232 -0.12555315\n",
      " -0.12557123 -0.12555644 -0.12553015 -0.12555808 -0.12557616 -0.12562053\n",
      " -0.12557616 -0.12560574 -0.12555644 -0.12557452 -0.12550385 -0.12556301\n",
      " -0.12560081 -0.12561889 -0.12558109 -0.12557452 -0.1255548  -0.12555151\n",
      " -0.12556794 -0.1255778  -0.12559753 -0.12558602 -0.12556794 -0.12559753\n",
      " -0.12557945 -0.12554329 -0.12553015 -0.12554658 -0.12558602 -0.12557123\n",
      " -0.1256156  -0.12558438 -0.1255663  -0.12554329 -0.12551864 -0.12556959\n",
      " -0.1255926  -0.1256041  -0.12559424 -0.12563697 -0.12558767 -0.12556959\n",
      " -0.12555808 -0.1255548  -0.12554987 -0.12560246 -0.12557123 -0.12556466\n",
      " -0.12559588 -0.1255663  -0.12553508 -0.12556794 -0.12558438 -0.12555808\n",
      " -0.12558931 -0.12558602 -0.1255548  -0.12556301 -0.1255548  -0.12556466\n",
      " -0.12555315 -0.12557287 -0.12556137 -0.12557287 -0.12556794 -0.12556794\n",
      " -0.12558602 -0.12556794 -0.12555151 -0.12554822 -0.12554165 -0.12553015\n",
      " -0.1255663  -0.12553836 -0.1255778  -0.12558767 -0.12558602 -0.12557452\n",
      " -0.12554494 -0.12556137 -0.12557452 -0.1255548  -0.1255548  -0.12554494\n",
      " -0.12556794 -0.12554165 -0.12556137 -0.12559753 -0.12555644 -0.12554987\n",
      " -0.12555315 -0.12552193 -0.12555644 -0.12554494 -0.1255926  -0.12558438\n",
      " -0.12558602 -0.12554329 -0.12554001 -0.12556137 -0.12558109 -0.12557452\n",
      " -0.12556466 -0.12555315 -0.12562053 -0.12558274 -0.12560739 -0.12556466\n",
      " -0.12558438 -0.12557616 -0.12557452 -0.12558931 -0.12555973 -0.12554658\n",
      " -0.12558767 -0.12556466 -0.12558109 -0.12558438 -0.12556794 -0.12558438\n",
      " -0.12558767 -0.1255778  -0.1255663  -0.12554329 -0.12555973 -0.12556301\n",
      " -0.1255663  -0.12556959 -0.12557452 -0.12555315 -0.12558438 -0.1255548\n",
      " -0.12558767 -0.12558274 -0.12554165 -0.12559095 -0.12554658 -0.12553343\n",
      " -0.12557287 -0.12555315 -0.12554658 -0.12558438 -0.12558438 -0.12558274\n",
      " -0.12556466 -0.12558602 -0.12557945 -0.12556794 -0.12554494 -0.12555315\n",
      " -0.12554001 -0.12559588 -0.12559917 -0.12559753 -0.12555644 -0.1255778\n",
      " -0.1255548  -0.12557945 -0.12555644 -0.12556301 -0.12554987 -0.12558274\n",
      " -0.12556794 -0.12558602 -0.12557616 -0.12554494 -0.12551207 -0.1255926\n",
      " -0.12554987 -0.12565669 -0.12555644 -0.12558274 -0.12553015 -0.12559095\n",
      " -0.1255285  -0.12556466 -0.12560739 -0.12555973 -0.12556137 -0.1255548\n",
      " -0.12557452 -0.12553672 -0.12554658 -0.12556959 -0.1255663  -0.12560081\n",
      " -0.12554494 -0.12555973 -0.12553836 -0.12554822 -0.12555315 -0.12555151\n",
      " -0.12553672 -0.12554987 -0.12555644 -0.1255663  -0.12555808 -0.12556959\n",
      " -0.12554658 -0.12554658 -0.1255663  -0.12552357 -0.12550549 -0.12559095\n",
      " -0.12552193 -0.12555151 -0.12554987 -0.12555644 -0.12553179 -0.12558109\n",
      " -0.12556794 -0.12555644 -0.12553508 -0.12555151 -0.12551864 -0.12554329\n",
      " -0.12555808 -0.12553508 -0.1255548  -0.12556301 -0.12553836 -0.12556137\n",
      " -0.12555644 -0.12557452 -0.12551864 -0.12553836 -0.12558274 -0.12557616\n",
      " -0.12555808 -0.12557945 -0.12554822 -0.12556466 -0.12559095 -0.12556466\n",
      " -0.12559588 -0.12557452 -0.12555973 -0.12553343 -0.12555808 -0.12555315\n",
      " -0.12554001 -0.1255548  -0.12555644 -0.12559095 -0.12556959 -0.1255548\n",
      " -0.12556301 -0.12555808 -0.12556301 -0.12553508 -0.12553343 -0.12556794\n",
      " -0.12556794 -0.12557287 -0.12554658 -0.12556959 -0.12555973 -0.12557123\n",
      " -0.12556137 -0.12555973 -0.12557616 -0.12555973 -0.12556959 -0.1255663\n",
      " -0.12556466 -0.12556466 -0.12553179 -0.1255663  -0.12555973 -0.12558109\n",
      " -0.12558602 -0.12559588 -0.12554494 -0.1255548  -0.12555808 -0.12553343\n",
      " -0.12559095 -0.1255548  -0.12556959 -0.12554494 -0.12554822 -0.12554658\n",
      " -0.1255926  -0.12556959 -0.12558602 -0.12556794 -0.12557616 -0.12554165\n",
      " -0.12558767 -0.12554494 -0.12556794 -0.12556466 -0.12553508 -0.12554987\n",
      " -0.12555151 -0.12554494]\n"
     ]
    }
   ],
   "source": [
    "sample_rate = 6400\n",
    "samples_read = 100\n",
    "\n",
    "with nidaqmx.Task() as read_task:\n",
    "    read_task.ai_channels.add_ai_voltage_chan(\"Dev1/ai0\")\n",
    "    read_task.ai_channels.add_ai_voltage_chan(\"Dev1/ai1\")\n",
    "    read_task.ai_channels.add_ai_voltage_chan(\"Dev1/ai2\")\n",
    "    read_task.ai_channels.add_ai_voltage_chan(\"Dev1/ai3\")\n",
    "    read_task.ai_channels.add_ai_voltage_chan(\"Dev1/ai4\")\n",
    "    read_task.ai_channels.add_ai_voltage_chan(\"Dev1/ai5\")\n",
    "    \n",
    "    read_task.timing.cfg_samp_clk_timing(sample_rate, sample_mode = AcquisitionType.CONTINUOUS, samps_per_chan = samples_read)               \n",
    "    \n",
    "    read_task.start()\n",
    "    reading = task.read(number_of_samples_per_channel=samples_read)\n",
    "    read_task.stop()\n",
    "    print(readings)\n",
    "\n",
    "final_readings = [[__avg(sample) for sample in channel] for channel in np.reshape(values_read, (6, 32000//100,100))]\n",
    "\n",
    "final_ft = np.array([sensor.convertToFt([final_readings[i][j] for i in range(len(final_readings))]) for j in range(len(final_readings[0]))])\n",
    "\n",
    "std_final_ft = final_ft.transpose()[0].std()\n",
    "print(\"Standard Deviation of Force X (N): \", std_final_ft)\n",
    "avg_final_ft = final_ft.transpose()[0].mean()\n",
    "print(\"Average of Force X (N): \", avg_final_ft)"
   ]
  },
  {
   "cell_type": "code",
   "execution_count": 113,
   "metadata": {},
   "outputs": [
    {
     "name": "stdout",
     "output_type": "stream",
     "text": [
      "[-0.12558437850724577, -0.1256172469540764, -0.1255860219295842, -0.12558437850724913, -0.12557780481788647, -0.12554986663806772, -0.12561231668705214, -0.12560902984237296, -0.1256040995753449, -0.12557287455085228, -0.12554986663807818, -0.125587665351924, -0.12558602192958132, -0.1255712311285205, -0.12559423904129996, -0.12556630086149156, -0.1255876653519301, -0.1255580837497763, -0.12554822321573306, -0.1255876653519335, -0.12562382064344946, -0.12560409957534358, -0.12561231668705694, -0.1255531534827602, -0.12557123112851853, -0.12555644032744034, -0.12553014556997089, -0.12555808374978297, -0.12557616139553562, -0.12562053379876217, -0.12557616139557304, -0.12560574299768004, -0.1255564403274351, -0.12557451797319164, -0.12550385081252272, -0.12556301401680622, -0.12560081273066248, -0.12561889037642618, -0.12558109166256665, -0.1255745179731982, -0.12555479690510044, -0.1255515100604161, -0.12556794428382945, -0.12557780481788078, -0.1255975258859767, -0.12558602192957846, -0.1255679442838285, -0.12559752588598327, -0.12557944824022105, -0.1255432929487056, -0.1255301455699878, -0.12554657979339043, -0.1255860219295775, -0.12557123112851523, -0.1256156035317394, -0.1255843785072486, -0.1255663008614887, -0.12554329294871128, -0.12551864161359105, -0.12556958770618296, -0.12559259561894678, -0.12560409957535024, -0.12559423904130457, -0.12563696802222668, -0.1255876653519335, -0.12556958770616888, -0.1255580837497858, -0.12555479690510046, -0.12554986663807333, -0.12560245615300755, -0.12557123112851107, -0.12556465743915404, -0.1255958824636397, -0.12556630086149156, -0.12553507583701162, -0.125567944283829, -0.1255843785072481, -0.12555808374978292, -0.12558930877427327, -0.12558602192958745, -0.1255547969050943, -0.12556301401680905, -0.1255547969051009, -0.12556465743915035, -0.12555315348275636, -0.1255728745508608, -0.12556137059446823, -0.1255728745508466, -0.12556794428383233, -0.12556794428383516, -0.12558602192958793, -0.12556794428382428, -0.12555151006042364, -0.12554822321574155, -0.12554164952637328, -0.1255301455700086, -0.1255663008614887, -0.12553836268168742, -0.12557780481788217, -0.12558766535192828, -0.1255860219295917, -0.12557451797319677, -0.12554493637104633, -0.12556137059445646, -0.12557451797319633, -0.12555479690509375, -0.12555479690509197, -0.1255449363710501, -0.12556794428383475, -0.12554164952636718, -0.12556137059446826, -0.12559752588598236, -0.12555644032744315, -0.12554986663807338, -0.12555315348275542, -0.1255219284582613, -0.12555644032743318, -0.12554493637105163, -0.1255925956189539, -0.12558437850724483, -0.12558602192958748, -0.12554329294870792, -0.12554000610403632, -0.12556137059446543, -0.12558109166256226, -0.12557451797319358, -0.12556465743914125, -0.1255531534827644, -0.12562053379878155, -0.12558273508489645, -0.12560738642003888, -0.125564657439147, -0.12558437850724669, -0.12557616139553907, -0.1255745179732025, -0.12558930877427607, -0.12555972717213318, -0.12554657979339098, -0.12558766535193022, -0.12556465743915263, -0.12558109166256087, -0.1255843785072477, -0.1255679442838356, -0.1255843785072467, -0.12558766535192964, -0.12557780481788267, -0.12556630086149348, -0.12554329294870833, -0.12555972717212094, -0.12556301401680334, -0.12556630086148163, -0.12556958770617213, -0.12557451797319824, -0.12555315348275534, -0.12558437850724335, -0.12555479690509666, -0.1255876653519268, -0.12558273508490636, -0.12554164952635916, -0.12559095219660837, -0.12554657979343015, -0.12553343241466286, -0.1255728745508546, -0.12555315348275586, -0.12554657979339992, -0.12558437850724288, -0.12558437850725096, -0.12558273508490544, -0.12556465743915116, -0.12558602192958748, -0.12557944824023096, -0.12556794428382662, -0.1255449363710501, -0.12555315348274979, -0.12554000610402313, -0.12559588246363826, -0.12559916930831413, -0.1255975258859771, -0.12555644032743699, -0.12557780481788178, -0.12555479690509994, -0.125579448240221, -0.12555644032743885, -0.12556301401680103, -0.12554986663807674, -0.12558273508490403, -0.12556794428382947, -0.12558602192958934, -0.12557616139554234, -0.1255449363710496, -0.12551206792421524, -0.1255925956189572, -0.12554986663807338, -0.1256566890903008, -0.12555644032744362, -0.12558273508491066, -0.12553014556998168, -0.12559095219662064, -0.12552850214763767, -0.1255646574391441, -0.12560738642003552, -0.12555972717211902, -0.1255613705944579, -0.1255547969050976, -0.12557451797319308, -0.1255367192593396, -0.12554657979339942, -0.12556958770616927, -0.12556630086148873, -0.12560081273065493, -0.12554493637105296, -0.12555972717212227, -0.1255383626816813, -0.12554822321573644, -0.1255531534827649, -0.12555151006041368, -0.1255367192593496, -0.12554986663807338, -0.1255564403274507, -0.1255663008614839, -0.12555808374978247, -0.12556958770617077, -0.1255465797933914, -0.12554657979339043, -0.1255663008614859, -0.12552357188064933, -0.1255054942348502, -0.1255909521966103, -0.1255219284582755, -0.12555151006041132, -0.1255498666380753, -0.12555644032743415, -0.12553178899232198, -0.12558109166256798, -0.1255679442838224, -0.12555644032743407, -0.12553507583699555, -0.1255515100604161, -0.12551864161358878, -0.12554329294870753, -0.12555808374977961, -0.1255350758369955, -0.12555479690509952, -0.12556301401680148, -0.12553836268168136, -0.1255613705944702, -0.12555644032743699, -0.12557451797319685, -0.12551864161359114, -0.12553836268168517, -0.12558273508490359, -0.12557616139553612, -0.12555808374978106, -0.12557944824021916, -0.12554822321573686, -0.1255646574391479, -0.12559095219661928, -0.12556465743915976, -0.1255958824636586, -0.1255745179731921, -0.12555972717211947, -0.1255334324146614, -0.12555808374977911, -0.12555315348275686, -0.12554000610401972, -0.12555479690509236, -0.12555644032744315, -0.1255909521966112, -0.12556958770617685, -0.12555479690509194, -0.12556301401680528, -0.12555808374978011, -0.125563014016809, -0.1255350758369979, -0.1255334324146586, -0.12556794428382756, -0.1255679442838314, -0.12557287455085706, -0.12554657979339134, -0.12556958770617174, -0.12555972717211708, -0.12557123112851248, -0.12556137059446362, -0.12555972717212194, -0.12557616139553804, -0.12555972717213032, -0.12556958770617122, -0.1255663008614816, -0.1255646574391456, -0.12556465743914322, -0.1255317889923659, -0.12556630086149206, -0.12555972717211947, -0.12558109166256093, -0.12558602192959686, -0.12559588246363693, -0.12554493637105152, -0.1255547969051009, -0.12555808374978397, -0.12553343241465817, -0.125590952196615, -0.12555479690510002, -0.12556958770616744, -0.1255449363710501, -0.12554822321572745, -0.12554657979339046, -0.12559259561896094, -0.12556958770617266, -0.12558602192958035, -0.12556794428383275, -0.12557616139553573, -0.12554164952636804, -0.12558766535193155, -0.12554493637104444, -0.1255679442838309, -0.1255646574391503, -0.1255350758370022, -0.12554986663807582, -0.12555151006041274, -0.12554493637105155]\n"
     ]
    }
   ],
   "source": [
    "print((test_reading[0]))"
   ]
  },
  {
   "cell_type": "code",
   "execution_count": 83,
   "metadata": {},
   "outputs": [
    {
     "name": "stdout",
     "output_type": "stream",
     "text": [
      "Shape size:  (813, 6)\n"
     ]
    },
    {
     "ename": "ValueError",
     "evalue": "invalid literal for int() with base 10: '1.19507384300232'",
     "output_type": "error",
     "traceback": [
      "\u001b[1;31m---------------------------------------------------------------------------\u001b[0m",
      "\u001b[1;31mValueError\u001b[0m                                Traceback (most recent call last)",
      "Cell \u001b[1;32mIn[83], line 8\u001b[0m\n\u001b[0;32m      5\u001b[0m demo_df\u001b[39m.\u001b[39mdrop(demo_df\u001b[39m.\u001b[39mcolumns[\u001b[39m6\u001b[39m:], axis\u001b[39m=\u001b[39m\u001b[39m1\u001b[39m, inplace\u001b[39m=\u001b[39m\u001b[39mTrue\u001b[39;00m)\n\u001b[0;32m      7\u001b[0m \u001b[39mprint\u001b[39m(\u001b[39m\"\u001b[39m\u001b[39mShape size: \u001b[39m\u001b[39m\"\u001b[39m, demo_df\u001b[39m.\u001b[39mshape)\n\u001b[1;32m----> 8\u001b[0m demo_df[\u001b[39m\"\u001b[39;49m\u001b[39mForce X (N)\u001b[39;49m\u001b[39m\"\u001b[39;49m]\u001b[39m.\u001b[39;49mastype(\u001b[39mint\u001b[39;49m)\n\u001b[0;32m      9\u001b[0m \u001b[39m# print(\"Standard Deviation of Force X (N): \", demo_df[\"Force X (N)\"].std())\u001b[39;00m\n\u001b[0;32m     10\u001b[0m \u001b[39m# print(\"Average of Force X (N): \", demo_df[\"Force X (N)\"].mean())\u001b[39;00m\n",
      "File \u001b[1;32m~\\AppData\\Roaming\\Python\\Python310\\site-packages\\pandas\\core\\generic.py:6240\u001b[0m, in \u001b[0;36mNDFrame.astype\u001b[1;34m(self, dtype, copy, errors)\u001b[0m\n\u001b[0;32m   6233\u001b[0m     results \u001b[39m=\u001b[39m [\n\u001b[0;32m   6234\u001b[0m         \u001b[39mself\u001b[39m\u001b[39m.\u001b[39miloc[:, i]\u001b[39m.\u001b[39mastype(dtype, copy\u001b[39m=\u001b[39mcopy)\n\u001b[0;32m   6235\u001b[0m         \u001b[39mfor\u001b[39;00m i \u001b[39min\u001b[39;00m \u001b[39mrange\u001b[39m(\u001b[39mlen\u001b[39m(\u001b[39mself\u001b[39m\u001b[39m.\u001b[39mcolumns))\n\u001b[0;32m   6236\u001b[0m     ]\n\u001b[0;32m   6238\u001b[0m \u001b[39melse\u001b[39;00m:\n\u001b[0;32m   6239\u001b[0m     \u001b[39m# else, only a single dtype is given\u001b[39;00m\n\u001b[1;32m-> 6240\u001b[0m     new_data \u001b[39m=\u001b[39m \u001b[39mself\u001b[39;49m\u001b[39m.\u001b[39;49m_mgr\u001b[39m.\u001b[39;49mastype(dtype\u001b[39m=\u001b[39;49mdtype, copy\u001b[39m=\u001b[39;49mcopy, errors\u001b[39m=\u001b[39;49merrors)\n\u001b[0;32m   6241\u001b[0m     \u001b[39mreturn\u001b[39;00m \u001b[39mself\u001b[39m\u001b[39m.\u001b[39m_constructor(new_data)\u001b[39m.\u001b[39m__finalize__(\u001b[39mself\u001b[39m, method\u001b[39m=\u001b[39m\u001b[39m\"\u001b[39m\u001b[39mastype\u001b[39m\u001b[39m\"\u001b[39m)\n\u001b[0;32m   6243\u001b[0m \u001b[39m# GH 33113: handle empty frame or series\u001b[39;00m\n",
      "File \u001b[1;32m~\\AppData\\Roaming\\Python\\Python310\\site-packages\\pandas\\core\\internals\\managers.py:448\u001b[0m, in \u001b[0;36mBaseBlockManager.astype\u001b[1;34m(self, dtype, copy, errors)\u001b[0m\n\u001b[0;32m    447\u001b[0m \u001b[39mdef\u001b[39;00m \u001b[39mastype\u001b[39m(\u001b[39mself\u001b[39m: T, dtype, copy: \u001b[39mbool\u001b[39m \u001b[39m=\u001b[39m \u001b[39mFalse\u001b[39;00m, errors: \u001b[39mstr\u001b[39m \u001b[39m=\u001b[39m \u001b[39m\"\u001b[39m\u001b[39mraise\u001b[39m\u001b[39m\"\u001b[39m) \u001b[39m-\u001b[39m\u001b[39m>\u001b[39m T:\n\u001b[1;32m--> 448\u001b[0m     \u001b[39mreturn\u001b[39;00m \u001b[39mself\u001b[39;49m\u001b[39m.\u001b[39;49mapply(\u001b[39m\"\u001b[39;49m\u001b[39mastype\u001b[39;49m\u001b[39m\"\u001b[39;49m, dtype\u001b[39m=\u001b[39;49mdtype, copy\u001b[39m=\u001b[39;49mcopy, errors\u001b[39m=\u001b[39;49merrors)\n",
      "File \u001b[1;32m~\\AppData\\Roaming\\Python\\Python310\\site-packages\\pandas\\core\\internals\\managers.py:352\u001b[0m, in \u001b[0;36mBaseBlockManager.apply\u001b[1;34m(self, f, align_keys, ignore_failures, **kwargs)\u001b[0m\n\u001b[0;32m    350\u001b[0m         applied \u001b[39m=\u001b[39m b\u001b[39m.\u001b[39mapply(f, \u001b[39m*\u001b[39m\u001b[39m*\u001b[39mkwargs)\n\u001b[0;32m    351\u001b[0m     \u001b[39melse\u001b[39;00m:\n\u001b[1;32m--> 352\u001b[0m         applied \u001b[39m=\u001b[39m \u001b[39mgetattr\u001b[39m(b, f)(\u001b[39m*\u001b[39m\u001b[39m*\u001b[39mkwargs)\n\u001b[0;32m    353\u001b[0m \u001b[39mexcept\u001b[39;00m (\u001b[39mTypeError\u001b[39;00m, \u001b[39mNotImplementedError\u001b[39;00m):\n\u001b[0;32m    354\u001b[0m     \u001b[39mif\u001b[39;00m \u001b[39mnot\u001b[39;00m ignore_failures:\n",
      "File \u001b[1;32m~\\AppData\\Roaming\\Python\\Python310\\site-packages\\pandas\\core\\internals\\blocks.py:526\u001b[0m, in \u001b[0;36mBlock.astype\u001b[1;34m(self, dtype, copy, errors)\u001b[0m\n\u001b[0;32m    508\u001b[0m \u001b[39m\u001b[39m\u001b[39m\"\"\"\u001b[39;00m\n\u001b[0;32m    509\u001b[0m \u001b[39mCoerce to the new dtype.\u001b[39;00m\n\u001b[0;32m    510\u001b[0m \n\u001b[1;32m   (...)\u001b[0m\n\u001b[0;32m    522\u001b[0m \u001b[39mBlock\u001b[39;00m\n\u001b[0;32m    523\u001b[0m \u001b[39m\"\"\"\u001b[39;00m\n\u001b[0;32m    524\u001b[0m values \u001b[39m=\u001b[39m \u001b[39mself\u001b[39m\u001b[39m.\u001b[39mvalues\n\u001b[1;32m--> 526\u001b[0m new_values \u001b[39m=\u001b[39m astype_array_safe(values, dtype, copy\u001b[39m=\u001b[39;49mcopy, errors\u001b[39m=\u001b[39;49merrors)\n\u001b[0;32m    528\u001b[0m new_values \u001b[39m=\u001b[39m maybe_coerce_values(new_values)\n\u001b[0;32m    529\u001b[0m newb \u001b[39m=\u001b[39m \u001b[39mself\u001b[39m\u001b[39m.\u001b[39mmake_block(new_values)\n",
      "File \u001b[1;32m~\\AppData\\Roaming\\Python\\Python310\\site-packages\\pandas\\core\\dtypes\\astype.py:299\u001b[0m, in \u001b[0;36mastype_array_safe\u001b[1;34m(values, dtype, copy, errors)\u001b[0m\n\u001b[0;32m    296\u001b[0m     \u001b[39mreturn\u001b[39;00m values\u001b[39m.\u001b[39mcopy()\n\u001b[0;32m    298\u001b[0m \u001b[39mtry\u001b[39;00m:\n\u001b[1;32m--> 299\u001b[0m     new_values \u001b[39m=\u001b[39m astype_array(values, dtype, copy\u001b[39m=\u001b[39;49mcopy)\n\u001b[0;32m    300\u001b[0m \u001b[39mexcept\u001b[39;00m (\u001b[39mValueError\u001b[39;00m, \u001b[39mTypeError\u001b[39;00m):\n\u001b[0;32m    301\u001b[0m     \u001b[39m# e.g. astype_nansafe can fail on object-dtype of strings\u001b[39;00m\n\u001b[0;32m    302\u001b[0m     \u001b[39m#  trying to convert to float\u001b[39;00m\n\u001b[0;32m    303\u001b[0m     \u001b[39mif\u001b[39;00m errors \u001b[39m==\u001b[39m \u001b[39m\"\u001b[39m\u001b[39mignore\u001b[39m\u001b[39m\"\u001b[39m:\n",
      "File \u001b[1;32m~\\AppData\\Roaming\\Python\\Python310\\site-packages\\pandas\\core\\dtypes\\astype.py:230\u001b[0m, in \u001b[0;36mastype_array\u001b[1;34m(values, dtype, copy)\u001b[0m\n\u001b[0;32m    227\u001b[0m     values \u001b[39m=\u001b[39m values\u001b[39m.\u001b[39mastype(dtype, copy\u001b[39m=\u001b[39mcopy)\n\u001b[0;32m    229\u001b[0m \u001b[39melse\u001b[39;00m:\n\u001b[1;32m--> 230\u001b[0m     values \u001b[39m=\u001b[39m astype_nansafe(values, dtype, copy\u001b[39m=\u001b[39;49mcopy)\n\u001b[0;32m    232\u001b[0m \u001b[39m# in pandas we don't store numpy str dtypes, so convert to object\u001b[39;00m\n\u001b[0;32m    233\u001b[0m \u001b[39mif\u001b[39;00m \u001b[39misinstance\u001b[39m(dtype, np\u001b[39m.\u001b[39mdtype) \u001b[39mand\u001b[39;00m \u001b[39missubclass\u001b[39m(values\u001b[39m.\u001b[39mdtype\u001b[39m.\u001b[39mtype, \u001b[39mstr\u001b[39m):\n",
      "File \u001b[1;32m~\\AppData\\Roaming\\Python\\Python310\\site-packages\\pandas\\core\\dtypes\\astype.py:170\u001b[0m, in \u001b[0;36mastype_nansafe\u001b[1;34m(arr, dtype, copy, skipna)\u001b[0m\n\u001b[0;32m    166\u001b[0m     \u001b[39mraise\u001b[39;00m \u001b[39mValueError\u001b[39;00m(msg)\n\u001b[0;32m    168\u001b[0m \u001b[39mif\u001b[39;00m copy \u001b[39mor\u001b[39;00m is_object_dtype(arr\u001b[39m.\u001b[39mdtype) \u001b[39mor\u001b[39;00m is_object_dtype(dtype):\n\u001b[0;32m    169\u001b[0m     \u001b[39m# Explicit copy, or required since NumPy can't view from / to object.\u001b[39;00m\n\u001b[1;32m--> 170\u001b[0m     \u001b[39mreturn\u001b[39;00m arr\u001b[39m.\u001b[39;49mastype(dtype, copy\u001b[39m=\u001b[39;49m\u001b[39mTrue\u001b[39;49;00m)\n\u001b[0;32m    172\u001b[0m \u001b[39mreturn\u001b[39;00m arr\u001b[39m.\u001b[39mastype(dtype, copy\u001b[39m=\u001b[39mcopy)\n",
      "\u001b[1;31mValueError\u001b[0m: invalid literal for int() with base 10: '1.19507384300232'"
     ]
    }
   ],
   "source": [
    "FOLDER_DIR = \"..\\Joey\\Record_Data\"\n",
    "\n",
    "demo_df = pd.read_csv(FOLDER_DIR+\"\\Demo\\Sensor_2.csv\")\n",
    "\n",
    "demo_df.drop(demo_df.columns[6:], axis=1, inplace=True)\n",
    "\n",
    "print(\"Shape size: \", demo_df.shape)\n",
    "demo_df[\"Force X (N)\"].astype(int)\n",
    "# print(\"Standard Deviation of Force X (N): \", demo_df[\"Force X (N)\"].std())\n",
    "# print(\"Average of Force X (N): \", demo_df[\"Force X (N)\"].mean())"
   ]
  }
 ],
 "metadata": {
  "kernelspec": {
   "display_name": "Python 3",
   "language": "python",
   "name": "python3"
  },
  "language_info": {
   "codemirror_mode": {
    "name": "ipython",
    "version": 3
   },
   "file_extension": ".py",
   "mimetype": "text/x-python",
   "name": "python",
   "nbconvert_exporter": "python",
   "pygments_lexer": "ipython3",
   "version": "3.10.11"
  },
  "orig_nbformat": 4
 },
 "nbformat": 4,
 "nbformat_minor": 2
}
