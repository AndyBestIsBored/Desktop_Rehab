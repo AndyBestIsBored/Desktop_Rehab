{
 "cells": [
  {
   "cell_type": "code",
   "execution_count": 27,
   "metadata": {},
   "outputs": [],
   "source": [
    "import atiiaftt as ati\n",
    "import random"
   ]
  },
  {
   "attachments": {},
   "cell_type": "markdown",
   "metadata": {},
   "source": [
    "1.  Call the createCalibration() method to load a calibration file into \n",
    "    memory.\n",
    "2.  Call the SetForceUnits(), SetTorqueUnits(), SetCalibration(), and \n",
    "    SetToolTransform() functions to configure the system.\n",
    "3.  Use device driver calls to retrieve an array of voltages from your data \n",
    "    acquisition system.\n",
    "4.  Use the Bias() function to store a baseline reading (zero the transducer)\n",
    "5.  Use the ConvertToFT() function to convert another array of voltages into \n",
    "    forces and torques.  The Bias reading will be subtracted automatically.\n",
    "6.  Call the destroyCalibration() function to free memory allocated for the \n",
    "    Calibration structure created in step 1."
   ]
  },
  {
   "cell_type": "code",
   "execution_count": 28,
   "metadata": {},
   "outputs": [],
   "source": [
    "CALFILEPATH = \"..\\FT44764\\FT44764.cal\"\n",
    "INDEX = 1\n",
    "\n",
    "sampleBias = [random.random()*6-3 for i in range(6)]\n",
    "sampleReading = [random.random()*6-3 for i in range(6)]\n",
    "\n",
    "sampleTT = [0,0,20,45,0,0]"
   ]
  },
  {
   "cell_type": "code",
   "execution_count": 33,
   "metadata": {},
   "outputs": [],
   "source": [
    "sensor = ati.FTSensor()\n",
    "cal = sensor.createCalibration(CALFILEPATH, INDEX)\n",
    "sensor.setForceUnits(\"N\".encode(\"utf-8\"))\n",
    "sensor.setTorqueUnits(\"N-m\".encode(\"utf-8\"))\n",
    "sensor.setToolTransform(sampleTT, \"mm\".encode(\"utf-8\"), \"deg\".encode(\"utf-8\"))\n",
    "\n",
    "sensor.bias(sampleBias)\n",
    "reading = sensor.convertToFt(sampleReading)"
   ]
  }
 ],
 "metadata": {
  "kernelspec": {
   "display_name": "Python 3",
   "language": "python",
   "name": "python3"
  },
  "language_info": {
   "codemirror_mode": {
    "name": "ipython",
    "version": 3
   },
   "file_extension": ".py",
   "mimetype": "text/x-python",
   "name": "python",
   "nbconvert_exporter": "python",
   "pygments_lexer": "ipython3",
   "version": "3.10.11"
  },
  "orig_nbformat": 4
 },
 "nbformat": 4,
 "nbformat_minor": 2
}
